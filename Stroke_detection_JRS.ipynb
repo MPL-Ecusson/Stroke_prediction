{
 "cells": [
  {
   "cell_type": "markdown",
   "id": "5005144b",
   "metadata": {},
   "source": [
    "# Stroke Detection Project\n",
    "## Machine Learning Labs Python\n",
    "## by Jeremy Schwartzbord (Spring '22 SPOC cohort)\n",
    "\n",
    "### Problem Statement\n",
    "The purpose of this notebook is to train a machine learning model that predicts whether a patient has a stroke or not, using a data set of 5110 patients. Each patient represents an observation where we know if he or she had a stroke, as well as other demographic (i.e., gender, age, etc), lifestyle (i.e., smoking) and health history variables (i.e., hypertension, BMI, glucose, etc.)  Given these variables, how accurately can we predict if a patient has a stroke?  We will start with the aforementioned data set, and a secondary objective, at the end of this project, will be to conclude whether the data set provided is sufficient for accurate prediction of stroke, or if additional data, such as more patient data or additional health history variables, will be needed to improve our model. \n",
    "\n",
    "This project will be organized as follows:\n",
    "\n",
    "i. Exploratory data analysis\n",
    "\n",
    "ii. Feature engineering and selection\n",
    "\n",
    "iii. Model training \n",
    "\n",
    "iv. Model evaluation"
   ]
  },
  {
   "cell_type": "code",
   "execution_count": 790,
   "id": "354da116",
   "metadata": {},
   "outputs": [],
   "source": [
    "#import libraries\n",
    "\n",
    "import numpy as np\n",
    "import pandas as pd\n",
    "import matplotlib.pyplot as plt\n",
    "import seaborn as sns\n",
    "from scipy import stats"
   ]
  },
  {
   "cell_type": "markdown",
   "id": "085fdfe2",
   "metadata": {},
   "source": [
    "### Cleaning and Exploratory Data Analysis"
   ]
  },
  {
   "cell_type": "code",
   "execution_count": 791,
   "id": "82759ab4",
   "metadata": {},
   "outputs": [],
   "source": [
    "#import data\n",
    "\n",
    "df = pd.read_csv('stroke_data.csv',sep=\",\",index_col=\"id\")\n",
    "\n",
    "# we create a copy of the native data set without cleaning, in case we need it later\n",
    "df_native = df.copy()"
   ]
  },
  {
   "cell_type": "markdown",
   "id": "5c8eaf19",
   "metadata": {},
   "source": [
    "The data set includes 11 columns total, including our target- stroke occurrence. Taking a look at the first few rows of data and summary statistics (below), there are clearly columns of data that require cleanup and opportunities for feature engineering. For instance, within the first few observations, a value for bmi is missing. The summary statistics for BMI indicate  4 909 observations, not 5110, so BMI is missing for 201 study participants. Furthermore, some columns are numeric (columns age, hypertension, heart_disease, avg_glucose_level, bmi, and stroke), while others are not (gender, ever_married, work_type, Residence_type, smoking_status). All variables must be numeric when we train our model, so we will undertake feature engineering in order to transform the categorical variables to numeric ones in the next section. "
   ]
  },
  {
   "cell_type": "code",
   "execution_count": 793,
   "id": "4a63beaa",
   "metadata": {},
   "outputs": [
    {
     "data": {
      "text/plain": [
       "5110"
      ]
     },
     "execution_count": 793,
     "metadata": {},
     "output_type": "execute_result"
    }
   ],
   "source": [
    "len(df)"
   ]
  },
  {
   "cell_type": "code",
   "execution_count": 794,
   "id": "51b72b41",
   "metadata": {},
   "outputs": [
    {
     "data": {
      "text/plain": [
       "'stroke'"
      ]
     },
     "execution_count": 794,
     "metadata": {},
     "output_type": "execute_result"
    }
   ],
   "source": [
    "#target\n",
    "df.columns[-1]"
   ]
  },
  {
   "cell_type": "code",
   "execution_count": 795,
   "id": "038c1305",
   "metadata": {},
   "outputs": [
    {
     "data": {
      "text/plain": [
       "Index(['gender', 'age', 'hypertension', 'heart_disease', 'ever_married',\n",
       "       'work_type', 'Residence_type', 'avg_glucose_level', 'bmi',\n",
       "       'smoking_status'],\n",
       "      dtype='object')"
      ]
     },
     "execution_count": 795,
     "metadata": {},
     "output_type": "execute_result"
    }
   ],
   "source": [
    "#variables\n",
    "df.columns[:-1]"
   ]
  },
  {
   "cell_type": "code",
   "execution_count": 796,
   "id": "82535bb1",
   "metadata": {},
   "outputs": [
    {
     "data": {
      "text/plain": [
       "10"
      ]
     },
     "execution_count": 796,
     "metadata": {},
     "output_type": "execute_result"
    }
   ],
   "source": [
    "len(df.columns[:-1])"
   ]
  },
  {
   "cell_type": "code",
   "execution_count": 798,
   "id": "95d6ec47",
   "metadata": {
    "scrolled": false
   },
   "outputs": [
    {
     "data": {
      "text/html": [
       "<div>\n",
       "<style scoped>\n",
       "    .dataframe tbody tr th:only-of-type {\n",
       "        vertical-align: middle;\n",
       "    }\n",
       "\n",
       "    .dataframe tbody tr th {\n",
       "        vertical-align: top;\n",
       "    }\n",
       "\n",
       "    .dataframe thead th {\n",
       "        text-align: right;\n",
       "    }\n",
       "</style>\n",
       "<table border=\"1\" class=\"dataframe\">\n",
       "  <thead>\n",
       "    <tr style=\"text-align: right;\">\n",
       "      <th></th>\n",
       "      <th>gender</th>\n",
       "      <th>age</th>\n",
       "      <th>hypertension</th>\n",
       "      <th>heart_disease</th>\n",
       "      <th>ever_married</th>\n",
       "      <th>work_type</th>\n",
       "      <th>Residence_type</th>\n",
       "      <th>avg_glucose_level</th>\n",
       "      <th>bmi</th>\n",
       "      <th>smoking_status</th>\n",
       "      <th>stroke</th>\n",
       "    </tr>\n",
       "    <tr>\n",
       "      <th>id</th>\n",
       "      <th></th>\n",
       "      <th></th>\n",
       "      <th></th>\n",
       "      <th></th>\n",
       "      <th></th>\n",
       "      <th></th>\n",
       "      <th></th>\n",
       "      <th></th>\n",
       "      <th></th>\n",
       "      <th></th>\n",
       "      <th></th>\n",
       "    </tr>\n",
       "  </thead>\n",
       "  <tbody>\n",
       "    <tr>\n",
       "      <th>9046</th>\n",
       "      <td>Male</td>\n",
       "      <td>67.0</td>\n",
       "      <td>0</td>\n",
       "      <td>1</td>\n",
       "      <td>Yes</td>\n",
       "      <td>Private</td>\n",
       "      <td>Urban</td>\n",
       "      <td>228.69</td>\n",
       "      <td>36.6</td>\n",
       "      <td>formerly smoked</td>\n",
       "      <td>1</td>\n",
       "    </tr>\n",
       "    <tr>\n",
       "      <th>51676</th>\n",
       "      <td>Female</td>\n",
       "      <td>61.0</td>\n",
       "      <td>0</td>\n",
       "      <td>0</td>\n",
       "      <td>Yes</td>\n",
       "      <td>Self-employed</td>\n",
       "      <td>Rural</td>\n",
       "      <td>202.21</td>\n",
       "      <td>NaN</td>\n",
       "      <td>never smoked</td>\n",
       "      <td>1</td>\n",
       "    </tr>\n",
       "    <tr>\n",
       "      <th>31112</th>\n",
       "      <td>Male</td>\n",
       "      <td>80.0</td>\n",
       "      <td>0</td>\n",
       "      <td>1</td>\n",
       "      <td>Yes</td>\n",
       "      <td>Private</td>\n",
       "      <td>Rural</td>\n",
       "      <td>105.92</td>\n",
       "      <td>32.5</td>\n",
       "      <td>never smoked</td>\n",
       "      <td>1</td>\n",
       "    </tr>\n",
       "    <tr>\n",
       "      <th>60182</th>\n",
       "      <td>Female</td>\n",
       "      <td>49.0</td>\n",
       "      <td>0</td>\n",
       "      <td>0</td>\n",
       "      <td>Yes</td>\n",
       "      <td>Private</td>\n",
       "      <td>Urban</td>\n",
       "      <td>171.23</td>\n",
       "      <td>34.4</td>\n",
       "      <td>smokes</td>\n",
       "      <td>1</td>\n",
       "    </tr>\n",
       "    <tr>\n",
       "      <th>1665</th>\n",
       "      <td>Female</td>\n",
       "      <td>79.0</td>\n",
       "      <td>1</td>\n",
       "      <td>0</td>\n",
       "      <td>Yes</td>\n",
       "      <td>Self-employed</td>\n",
       "      <td>Rural</td>\n",
       "      <td>174.12</td>\n",
       "      <td>24.0</td>\n",
       "      <td>never smoked</td>\n",
       "      <td>1</td>\n",
       "    </tr>\n",
       "  </tbody>\n",
       "</table>\n",
       "</div>"
      ],
      "text/plain": [
       "       gender   age  hypertension  heart_disease ever_married      work_type  \\\n",
       "id                                                                             \n",
       "9046     Male  67.0             0              1          Yes        Private   \n",
       "51676  Female  61.0             0              0          Yes  Self-employed   \n",
       "31112    Male  80.0             0              1          Yes        Private   \n",
       "60182  Female  49.0             0              0          Yes        Private   \n",
       "1665   Female  79.0             1              0          Yes  Self-employed   \n",
       "\n",
       "      Residence_type  avg_glucose_level   bmi   smoking_status  stroke  \n",
       "id                                                                      \n",
       "9046           Urban             228.69  36.6  formerly smoked       1  \n",
       "51676          Rural             202.21   NaN     never smoked       1  \n",
       "31112          Rural             105.92  32.5     never smoked       1  \n",
       "60182          Urban             171.23  34.4           smokes       1  \n",
       "1665           Rural             174.12  24.0     never smoked       1  "
      ]
     },
     "execution_count": 798,
     "metadata": {},
     "output_type": "execute_result"
    }
   ],
   "source": [
    "df.head()"
   ]
  },
  {
   "cell_type": "code",
   "execution_count": 799,
   "id": "a7aacc76",
   "metadata": {},
   "outputs": [],
   "source": [
    "#data processing"
   ]
  },
  {
   "cell_type": "markdown",
   "id": "7d659e72",
   "metadata": {},
   "source": [
    "#### Data Cleaning\n",
    "\n",
    "Prior to our full exploratory data analysis, we will undertake data cleaning. This step includes:\n",
    "1. Identification of missing values\n",
    "2. Decision of how to treat missing data: delete or fill with average?\n",
    "\n"
   ]
  },
  {
   "cell_type": "code",
   "execution_count": 800,
   "id": "3a402f1a",
   "metadata": {},
   "outputs": [
    {
     "data": {
      "text/plain": [
       "gender                 0\n",
       "age                    0\n",
       "hypertension           0\n",
       "heart_disease          0\n",
       "ever_married           0\n",
       "work_type              0\n",
       "Residence_type         0\n",
       "avg_glucose_level      0\n",
       "bmi                  201\n",
       "smoking_status         0\n",
       "stroke                 0\n",
       "dtype: int64"
      ]
     },
     "execution_count": 800,
     "metadata": {},
     "output_type": "execute_result"
    }
   ],
   "source": [
    "#identify colulmns with missing values\n",
    "df.isna().sum()"
   ]
  },
  {
   "cell_type": "markdown",
   "id": "e75e939e",
   "metadata": {},
   "source": [
    "Body mass index (BMI) is the sole variable containing missing values, and too many are missing for us to delete individuals without BMI recorded. Also, BMI could be interesting for the stroke model. We'll keep the data and estimate the average where missing. That average should grouped by factors that affect BMI. First, we check for outliers and remove if necessary for estimating averages. "
   ]
  },
  {
   "cell_type": "code",
   "execution_count": 716,
   "id": "95441ccd",
   "metadata": {
    "scrolled": true
   },
   "outputs": [
    {
     "data": {
      "text/plain": [
       "Text(0.5, 1.0, 'BMI Distribution among Patients in Stroke Study')"
      ]
     },
     "execution_count": 716,
     "metadata": {},
     "output_type": "execute_result"
    },
    {
     "data": {
      "image/png": "[encoded data removed]",
      "text/plain": [
       "<Figure size 432x288 with 1 Axes>"
      ]
     },
     "metadata": {
      "needs_background": "light"
     },
     "output_type": "display_data"
    }
   ],
   "source": [
    "sns.histplot(df, x = \"bmi\").set_title('BMI Distribution among Patients in Stroke Study')"
   ]
  },
  {
   "cell_type": "code",
   "execution_count": 717,
   "id": "ca89a7f8",
   "metadata": {},
   "outputs": [
    {
     "data": {
      "text/plain": [
       "Text(0.5, 1.0, 'Age Distributino in Stroke Study')"
      ]
     },
     "execution_count": 717,
     "metadata": {},
     "output_type": "execute_result"
    },
    {
     "data": {
      "image/png": "[encoded data removed]",
      "text/plain": [
       "<Figure size 432x288 with 1 Axes>"
      ]
     },
     "metadata": {
      "needs_background": "light"
     },
     "output_type": "display_data"
    }
   ],
   "source": [
    "sns.histplot(df, x ='age').set_title('Age Distributino in Stroke Study')"
   ]
  },
  {
   "cell_type": "markdown",
   "id": "a80233a7",
   "metadata": {},
   "source": [
    "In the distribution of BMI, outliers appear where BMI exceeds 70 kg/sq.m., so we exclude those outliers for estimation of average BMI. "
   ]
  },
  {
   "cell_type": "code",
   "execution_count": 718,
   "id": "369b9cb4",
   "metadata": {},
   "outputs": [
    {
     "data": {
      "text/plain": [
       "Text(0.5, 1.0, 'BMI Distribution among Patients in Stroke Study, outliers removed')"
      ]
     },
     "execution_count": 718,
     "metadata": {},
     "output_type": "execute_result"
    },
    {
     "data": {
      "image/png": "[encoded data removed]",
      "text/plain": [
       "<Figure size 432x288 with 1 Axes>"
      ]
     },
     "metadata": {
      "needs_background": "light"
     },
     "output_type": "display_data"
    }
   ],
   "source": [
    "# We select columns of BMI and factors that might be related to it\n",
    "# We remove rows where BMI exceeds 70 kg/sq.m becquse they are outliers\n",
    "BMI_factors = df.loc[-(df.bmi > 70),(\"gender\", \"age\", \"Residence_type\", \"avg_glucose_level\", \"bmi\")].dropna(axis = 0)\n",
    "\n",
    "sns.histplot(BMI_factors, x = \"bmi\").set_title('BMI Distribution among Patients in Stroke Study, outliers removed')"
   ]
  },
  {
   "cell_type": "markdown",
   "id": "6d0f752f",
   "metadata": {},
   "source": [
    "\n",
    "\n",
    "According to the American National Institutes of Health (https://www.niddk.nih.gov/health-information/weight-management/adult-overweight-obesity/factors-affecting-weight-health), factors like family history, ethnicity, age, sex, eating habits, where a person lives, and sleep can influence BMI. Of these factors, gender, age, residence_type (related to where a person lives), avg_glucose_level (related to eating habits) were reported in this study. We check visually to see if there is a relationship between these variables and BMI where it is known. \n",
    "\n",
    "First, we see no obvious difference in BMI when we group participants by either gender or residence type (urban versus rural); evidently those two factors do not give much information about BMI among participants in this study. "
   ]
  },
  {
   "cell_type": "code",
   "execution_count": 719,
   "id": "27fa675d",
   "metadata": {},
   "outputs": [
    {
     "data": {
      "text/plain": [
       "Text(0.5, 1.0, 'Residence type versus BMI')"
      ]
     },
     "execution_count": 719,
     "metadata": {},
     "output_type": "execute_result"
    },
    {
     "data": {
      "image/png": "[encoded data removed]",
      "text/plain": [
       "<Figure size 432x288 with 2 Axes>"
      ]
     },
     "metadata": {
      "needs_background": "light"
     },
     "output_type": "display_data"
    }
   ],
   "source": [
    "fig, ax =plt.subplots(1,2)\n",
    "sns.boxplot(x = BMI_factors.gender, y = BMI_factors.bmi, ax = ax[0]).set_title('Gender versus BMI')\n",
    "sns.boxplot(x = BMI_factors.Residence_type, y = BMI_factors.bmi, ax = ax[1]).set_title('Residence type versus BMI')\n"
   ]
  },
  {
   "cell_type": "markdown",
   "id": "9d606a1d",
   "metadata": {},
   "source": [
    "####  Relationship between age, average glucose level and BMI among study participants\n",
    "By plotting age and BMI and average glucose level and BMI, the clouds of points do not appear randomly dispersed. First, BMI  increases with average glucose level, with the trendline showing a positive relationship that appears linear and signficant, with a p-value less than 0.01 (i.e. rejection of null hypothesis that slope of the linear trendline is 0). A relationship appears between age and BMI, but it is not clearly monotonic because the cloud of points does not follow the linear trendline throughout the age range of the study. Instead of being truly linear, BMI increases with age up to 40 years, becomes level, then decreases at 60 years and older.\n"
   ]
  },
  {
   "cell_type": "code",
   "execution_count": 801,
   "id": "710d56d3",
   "metadata": {
    "scrolled": false
   },
   "outputs": [
    {
     "data": {
      "text/plain": [
       "Text(0.5, 1.0, 'Age vs FMI \\n with regression plot')"
      ]
     },
     "execution_count": 801,
     "metadata": {},
     "output_type": "execute_result"
    },
    {
     "data": {
      "image/png": "[encoded data removed]",
      "text/plain": [
       "<Figure size 432x288 with 2 Axes>"
      ]
     },
     "metadata": {
      "needs_background": "light"
     },
     "output_type": "display_data"
    }
   ],
   "source": [
    "fig, ax =plt.subplots(1,2)\n",
    "\n",
    "sns.regplot(x=BMI_factors.avg_glucose_level, y=BMI_factors.bmi, \n",
    "            fit_reg = True, \n",
    "            line_kws={\"color\" : \"red\"} ,\n",
    "            ax = ax[0]\n",
    "           ).set_title('Average Glucose Level vs\\n BMI with regression plot')\n",
    "sns.regplot(x=BMI_factors.age, y=BMI_factors.bmi, \n",
    "            fit_reg = True, \n",
    "            line_kws={\"color\" : \"red\"} ,\n",
    "            ax = ax[1]\n",
    "           ).set_title('Age vs FMI \\n with regression plot')\n"
   ]
  },
  {
   "cell_type": "code",
   "execution_count": 802,
   "id": "558e8247",
   "metadata": {},
   "outputs": [
    {
     "name": "stdout",
     "output_type": "stream",
     "text": [
      "The p-value of the linear model regressing average glucose level to BMI is  1.3664323788161517e-37\n",
      "The p-value of the linear model regressing age to BMI is  1.0348373615035425e-136\n"
     ]
    }
   ],
   "source": [
    "glucose_BMI_LM = stats.linregress(x=BMI_factors.avg_glucose_level, y = BMI_factors.bmi)\n",
    "age_BMI_LM = stats.linregress(x=BMI_factors.age, y = BMI_factors.bmi)\n",
    "\n",
    "\n",
    "print(\"The p-value of the linear model regressing average glucose level to BMI is \" ,glucose_BMI_LM.pvalue)\n",
    "print(\"The p-value of the linear model regressing age to BMI is \", age_BMI_LM.pvalue)"
   ]
  },
  {
   "cell_type": "markdown",
   "id": "eebfb49e",
   "metadata": {},
   "source": [
    "We create groups by age that capture this nonlinear relationship. \n",
    "\n",
    "We also create a lower glucose group (<175 mg/dL) and a high glucose group (175+ mg/dL), where BMI clearly increases with higher glucose group.\n",
    " \n",
    "Finally, we calculate average BMI based on the age and glucose groups created and fill it into our dataframe that includes all observations. "
   ]
  },
  {
   "cell_type": "code",
   "execution_count": 803,
   "id": "5ffc1895",
   "metadata": {},
   "outputs": [],
   "source": [
    "#create age categories\n",
    "binsAge = [0, 20, 30,40, 60, np.inf]\n",
    "namesAge = [ '<20', '20-30', '30-40', '40-60', '60+']\n",
    "BMI_factors['Age_Group'] = pd.cut(BMI_factors['age'], binsAge, labels = namesAge)\n",
    "\n",
    "#create glucose levels groups\n",
    "binsGlucose = [0,175, np.inf]\n",
    "namesGlucose = [ '<175', '175+']\n",
    "BMI_factors['Glucose_Group'] = pd.cut(BMI_factors['avg_glucose_level'], binsGlucose, labels = namesGlucose)"
   ]
  },
  {
   "cell_type": "code",
   "execution_count": 804,
   "id": "e3a6ffa2",
   "metadata": {},
   "outputs": [
    {
     "data": {
      "text/plain": [
       "Text(0.5, 1.0, 'BMI by Age Group')"
      ]
     },
     "execution_count": 804,
     "metadata": {},
     "output_type": "execute_result"
    },
    {
     "data": {
      "image/png": "[encoded data removed]",
      "text/plain": [
       "<Figure size 432x288 with 1 Axes>"
      ]
     },
     "metadata": {
      "needs_background": "light"
     },
     "output_type": "display_data"
    }
   ],
   "source": [
    "sns.boxplot(x = BMI_factors.Age_Group, y = BMI_factors.bmi).set_title('BMI by Age Group')"
   ]
  },
  {
   "cell_type": "code",
   "execution_count": 805,
   "id": "42113a17",
   "metadata": {},
   "outputs": [
    {
     "data": {
      "text/plain": [
       "Text(0.5, 1.0, 'BMI by Glucose Group')"
      ]
     },
     "execution_count": 805,
     "metadata": {},
     "output_type": "execute_result"
    },
    {
     "data": {
      "image/png": "[encoded data removed]",
      "text/plain": [
       "<Figure size 432x288 with 1 Axes>"
      ]
     },
     "metadata": {
      "needs_background": "light"
     },
     "output_type": "display_data"
    }
   ],
   "source": [
    "sns.boxplot(x = BMI_factors.Glucose_Group, y = BMI_factors.bmi).set_title('BMI by Glucose Group')"
   ]
  },
  {
   "cell_type": "markdown",
   "id": "edb8f6ff",
   "metadata": {},
   "source": [
    "Average BMI among participants grouped by age group and glucose group"
   ]
  },
  {
   "cell_type": "code",
   "execution_count": 806,
   "id": "511449af",
   "metadata": {
    "scrolled": false
   },
   "outputs": [
    {
     "data": {
      "text/plain": [
       "Age_Group  Glucose_Group\n",
       "<20        <175             22.113576\n",
       "           175+             23.325000\n",
       "20-30      <175             28.394050\n",
       "           175+             29.807143\n",
       "30-40      <175             30.967599\n",
       "           175+             33.653846\n",
       "40-60      <175             31.000076\n",
       "           175+             36.284153\n",
       "60+        <175             29.129361\n",
       "           175+             32.209184\n",
       "Name: bmi, dtype: float64"
      ]
     },
     "execution_count": 806,
     "metadata": {},
     "output_type": "execute_result"
    }
   ],
   "source": [
    "BMI_factors.groupby(['Age_Group', 'Glucose_Group']).mean().bmi"
   ]
  },
  {
   "cell_type": "code",
   "execution_count": 807,
   "id": "01f4ad4f",
   "metadata": {},
   "outputs": [],
   "source": [
    "#create age categories in dataframe containing all observations\n",
    "binsAge = [0, 20, 30,40, 60, np.inf]\n",
    "namesAge = [ '<20', '20-30', '30-40', '40-60', '60+']\n",
    "df['Age_Group'] = pd.cut(df['age'], binsAge, labels = namesAge)\n",
    "\n",
    "#create glucose levels groups in dataframe containing all observations\n",
    "binsGlucose = [0,175, np.inf]\n",
    "namesGlucose = [ '<175', '175+']\n",
    "df['Glucose_Group'] = pd.cut(df['avg_glucose_level'], binsGlucose, labels = namesGlucose)"
   ]
  },
  {
   "cell_type": "code",
   "execution_count": 808,
   "id": "f74fb572",
   "metadata": {
    "scrolled": true
   },
   "outputs": [
    {
     "data": {
      "text/plain": [
       "gender               0\n",
       "age                  0\n",
       "hypertension         0\n",
       "heart_disease        0\n",
       "ever_married         0\n",
       "work_type            0\n",
       "Residence_type       0\n",
       "avg_glucose_level    0\n",
       "bmi                  0\n",
       "smoking_status       0\n",
       "stroke               0\n",
       "dtype: int64"
      ]
     },
     "execution_count": 808,
     "metadata": {},
     "output_type": "execute_result"
    }
   ],
   "source": [
    "# dictionary of BMI based on age, glucose group\n",
    "average_bmi = BMI_factors.groupby(['Age_Group', 'Glucose_Group']).mean().bmi.to_dict()\n",
    "\n",
    "#function to evaluate BMI based on input of age group and glucose group\n",
    "def bmi_guesser(age_glucose_grps):\n",
    "    age_glucose_grps = tuple(age_glucose_grps)\n",
    "    bmi = average_bmi[age_glucose_grps]\n",
    "    return bmi\n",
    "\n",
    "# loop through age_group and glucose_group keys of our average_bmi dictionary\n",
    "# locate within our data the observations matching the age/glucose group of each iteration\n",
    "    # locate the indices where BMI is missing\n",
    "#fill BMI in our dataframe at those indices\n",
    "\n",
    "for age,glucose in average_bmi.keys():\n",
    "    temp_df = df.loc[(df.Age_Group==age) & (df.Glucose_Group == glucose),:]\n",
    "    missing_values_index = temp_df.loc[temp_df.bmi.isna()].index\n",
    "    df.loc[missing_values_index,\"bmi\"] = bmi_guesser([age, glucose])\n",
    "    \n",
    "# drop the variables we created for predicting BMI: Age_Group and Glucose_Group\n",
    "\n",
    "df = df.drop(\"Age_Group\", axis=1)\n",
    "\n",
    "df = df.drop(\"Glucose_Group\", axis=1)\n",
    "\n",
    "    \n",
    "# check if missing values persist\n",
    "df.isna().sum()\n"
   ]
  },
  {
   "cell_type": "markdown",
   "id": "3e899839",
   "metadata": {},
   "source": [
    "There are no more missing values in the data set"
   ]
  },
  {
   "cell_type": "markdown",
   "id": "9251025c",
   "metadata": {},
   "source": [
    "#### Exploratory Data Analysis"
   ]
  },
  {
   "cell_type": "code",
   "execution_count": 816,
   "id": "cfd5c9b2",
   "metadata": {},
   "outputs": [
    {
     "data": {
      "text/html": [
       "<div>\n",
       "<style scoped>\n",
       "    .dataframe tbody tr th:only-of-type {\n",
       "        vertical-align: middle;\n",
       "    }\n",
       "\n",
       "    .dataframe tbody tr th {\n",
       "        vertical-align: top;\n",
       "    }\n",
       "\n",
       "    .dataframe thead th {\n",
       "        text-align: right;\n",
       "    }\n",
       "</style>\n",
       "<table border=\"1\" class=\"dataframe\">\n",
       "  <thead>\n",
       "    <tr style=\"text-align: right;\">\n",
       "      <th></th>\n",
       "      <th>age</th>\n",
       "      <th>hypertension</th>\n",
       "      <th>heart_disease</th>\n",
       "      <th>avg_glucose_level</th>\n",
       "      <th>bmi</th>\n",
       "      <th>stroke</th>\n",
       "    </tr>\n",
       "  </thead>\n",
       "  <tbody>\n",
       "    <tr>\n",
       "      <th>count</th>\n",
       "      <td>5110.000000</td>\n",
       "      <td>5110.000000</td>\n",
       "      <td>5110.000000</td>\n",
       "      <td>5110.000000</td>\n",
       "      <td>5110.00000</td>\n",
       "      <td>5110.000000</td>\n",
       "    </tr>\n",
       "    <tr>\n",
       "      <th>mean</th>\n",
       "      <td>43.226614</td>\n",
       "      <td>0.097456</td>\n",
       "      <td>0.054012</td>\n",
       "      <td>106.147677</td>\n",
       "      <td>28.93970</td>\n",
       "      <td>0.048728</td>\n",
       "    </tr>\n",
       "    <tr>\n",
       "      <th>std</th>\n",
       "      <td>22.612647</td>\n",
       "      <td>0.296607</td>\n",
       "      <td>0.226063</td>\n",
       "      <td>45.283560</td>\n",
       "      <td>7.73531</td>\n",
       "      <td>0.215320</td>\n",
       "    </tr>\n",
       "    <tr>\n",
       "      <th>min</th>\n",
       "      <td>0.080000</td>\n",
       "      <td>0.000000</td>\n",
       "      <td>0.000000</td>\n",
       "      <td>55.120000</td>\n",
       "      <td>10.30000</td>\n",
       "      <td>0.000000</td>\n",
       "    </tr>\n",
       "    <tr>\n",
       "      <th>25%</th>\n",
       "      <td>25.000000</td>\n",
       "      <td>0.000000</td>\n",
       "      <td>0.000000</td>\n",
       "      <td>77.245000</td>\n",
       "      <td>23.60000</td>\n",
       "      <td>0.000000</td>\n",
       "    </tr>\n",
       "    <tr>\n",
       "      <th>50%</th>\n",
       "      <td>45.000000</td>\n",
       "      <td>0.000000</td>\n",
       "      <td>0.000000</td>\n",
       "      <td>91.885000</td>\n",
       "      <td>28.30000</td>\n",
       "      <td>0.000000</td>\n",
       "    </tr>\n",
       "    <tr>\n",
       "      <th>75%</th>\n",
       "      <td>61.000000</td>\n",
       "      <td>0.000000</td>\n",
       "      <td>0.000000</td>\n",
       "      <td>114.090000</td>\n",
       "      <td>32.90000</td>\n",
       "      <td>0.000000</td>\n",
       "    </tr>\n",
       "    <tr>\n",
       "      <th>max</th>\n",
       "      <td>82.000000</td>\n",
       "      <td>1.000000</td>\n",
       "      <td>1.000000</td>\n",
       "      <td>271.740000</td>\n",
       "      <td>97.60000</td>\n",
       "      <td>1.000000</td>\n",
       "    </tr>\n",
       "  </tbody>\n",
       "</table>\n",
       "</div>"
      ],
      "text/plain": [
       "               age  hypertension  heart_disease  avg_glucose_level  \\\n",
       "count  5110.000000   5110.000000    5110.000000        5110.000000   \n",
       "mean     43.226614      0.097456       0.054012         106.147677   \n",
       "std      22.612647      0.296607       0.226063          45.283560   \n",
       "min       0.080000      0.000000       0.000000          55.120000   \n",
       "25%      25.000000      0.000000       0.000000          77.245000   \n",
       "50%      45.000000      0.000000       0.000000          91.885000   \n",
       "75%      61.000000      0.000000       0.000000         114.090000   \n",
       "max      82.000000      1.000000       1.000000         271.740000   \n",
       "\n",
       "              bmi       stroke  \n",
       "count  5110.00000  5110.000000  \n",
       "mean     28.93970     0.048728  \n",
       "std       7.73531     0.215320  \n",
       "min      10.30000     0.000000  \n",
       "25%      23.60000     0.000000  \n",
       "50%      28.30000     0.000000  \n",
       "75%      32.90000     0.000000  \n",
       "max      97.60000     1.000000  "
      ]
     },
     "execution_count": 816,
     "metadata": {},
     "output_type": "execute_result"
    }
   ],
   "source": [
    "#Exploratory Analysis and Summary Statistics\n",
    "df.describe()"
   ]
  },
  {
   "cell_type": "markdown",
   "id": "44e08dad",
   "metadata": {},
   "source": [
    "The summary statistics of numeric variables (above) inform us with key facts about the study population. Most importantly, strokes occurred among 4.9% of the population, indicating that this adverse health outcome was a rare event in this study. While we have much less information about individuals who had a stroke than those who did not, the study sample includes over 5000 observations. There were over 250 cases of stroke, and this number could be sufficient to build a model.\n",
    "\n",
    "With respect to demographic details the average age of participants was 43 years old. Concerning health history, 9,7% had hypertension, 5,4% had heart disease, the average glucose level was 106 mg/dL, and average body mass index (BMI) was 28,9 kg/sq.m. (including observations where BMI was missing and filled in with average by age and glucose level)\n"
   ]
  },
  {
   "cell_type": "markdown",
   "id": "72f62d6f",
   "metadata": {},
   "source": [
    "Tabulation of the categorical variables below shows similar representation between men (n = 2115) and women (n=2994) and urban (n = 2596) and rural (n = 2513) residents. In one observation, gender was listed as \"other.\" We cannot fully understand the reason given the informatino we have about data collection. Perhaps this individual identified as non-binary or simply declined to share gender information in the study. At any rate, it is a rare observation, so we will drop this individual from the the machine learning model. If future data sets were to have additional individuals with gender as \"other\", we could consider this third gender category in our prediction model.\n",
    "\n",
    "The majority (65%) of participants were married. Smoking status, however, is not well understood, because smoking history is unknown among 1544 (30%) participants. This raises an interesting question. If this study set smoking history as unknown, can we consider it missing data? Should our machine learning model estimate smoking history based on demographic factors of study participants? We will resolve this later with depending on the prediction accuracy of our ML model. \n",
    "\n",
    "Not all types of workers are represented in this study. Over half of participants worked in the private sector. The percent of them that were self-employed, minors, or government-employed were 16%, 13%, and 13%, respectively. Less than 1% never worked. Consequently, our machine learning model may be more accurate about participants who worked in the private sector, but less accurate for those with other work types. "
   ]
  },
  {
   "cell_type": "code",
   "execution_count": 819,
   "id": "80dd89a8",
   "metadata": {},
   "outputs": [
    {
     "data": {
      "text/plain": [
       "Female    2994\n",
       "Male      2115\n",
       "Other        1\n",
       "Name: gender, dtype: int64"
      ]
     },
     "execution_count": 819,
     "metadata": {},
     "output_type": "execute_result"
    }
   ],
   "source": [
    "df.gender.value_counts()"
   ]
  },
  {
   "cell_type": "code",
   "execution_count": 820,
   "id": "9720663f",
   "metadata": {},
   "outputs": [
    {
     "data": {
      "text/plain": [
       "Female    2994\n",
       "Male      2115\n",
       "Name: gender, dtype: int64"
      ]
     },
     "execution_count": 820,
     "metadata": {},
     "output_type": "execute_result"
    }
   ],
   "source": [
    "#remove observations where gender is \"other\"\n",
    "df = df.drop(df.loc[df.gender == \"Other\",:].index)\n",
    "df.gender.value_counts()"
   ]
  },
  {
   "cell_type": "code",
   "execution_count": 821,
   "id": "b6c21d3b",
   "metadata": {},
   "outputs": [
    {
     "data": {
      "text/plain": [
       "Yes    3353\n",
       "No     1756\n",
       "Name: ever_married, dtype: int64"
      ]
     },
     "execution_count": 821,
     "metadata": {},
     "output_type": "execute_result"
    }
   ],
   "source": [
    "df.ever_married.value_counts()"
   ]
  },
  {
   "cell_type": "code",
   "execution_count": 822,
   "id": "e7fbfaab",
   "metadata": {},
   "outputs": [
    {
     "name": "stdout",
     "output_type": "stream",
     "text": [
      "The percentage of work types among study participants is:\n",
      "Private          57.232335\n",
      "Self-employed    16.030534\n",
      "children         13.446858\n",
      "Govt_job         12.859659\n",
      "Never_worked      0.430613\n",
      "Name: work_type, dtype: float64\n"
     ]
    }
   ],
   "source": [
    "print(\"The percentage of work types among study participants is:\")\n",
    "print(df.work_type.value_counts()/len(df)*100)"
   ]
  },
  {
   "cell_type": "code",
   "execution_count": 823,
   "id": "bb153dc1",
   "metadata": {},
   "outputs": [
    {
     "data": {
      "text/plain": [
       "Urban    2596\n",
       "Rural    2513\n",
       "Name: Residence_type, dtype: int64"
      ]
     },
     "execution_count": 823,
     "metadata": {},
     "output_type": "execute_result"
    }
   ],
   "source": [
    "df.Residence_type.value_counts()"
   ]
  },
  {
   "cell_type": "code",
   "execution_count": 824,
   "id": "0dc83378",
   "metadata": {},
   "outputs": [
    {
     "data": {
      "text/plain": [
       "never smoked       1892\n",
       "Unknown            1544\n",
       "formerly smoked     884\n",
       "smokes              789\n",
       "Name: smoking_status, dtype: int64"
      ]
     },
     "execution_count": 824,
     "metadata": {},
     "output_type": "execute_result"
    }
   ],
   "source": [
    "df.smoking_status.value_counts()"
   ]
  },
  {
   "cell_type": "markdown",
   "id": "a85addeb",
   "metadata": {},
   "source": [
    "#### Correlations among all variables \n",
    "\n",
    "Heat maps below demonstrate (again) a positive correlation between age and BMI. There are also high correlations between marriage history (ever_maried) and smoking status, worktype and smoking status, and marriage history and worktype, compared to other variables. The reason is evident in especially in the tables below (see pd.crosstab): the study includes children (13%).  Lifestyle factors such as marriage, smoking, and worktype all are influenced by whether a person is a child or an adult and therefore are not truly independent variables. Therefore, not all three variables should be used in the final model to avoid linear dependence among features (otherwise know as explanatory variables) of the predictive model."
   ]
  },
  {
   "cell_type": "code",
   "execution_count": 825,
   "id": "81046ea8",
   "metadata": {},
   "outputs": [
    {
     "data": {
      "text/plain": [
       "Index(['gender', 'age', 'hypertension', 'heart_disease', 'ever_married',\n",
       "       'work_type', 'Residence_type', 'avg_glucose_level', 'bmi',\n",
       "       'smoking_status', 'stroke'],\n",
       "      dtype='object')"
      ]
     },
     "execution_count": 825,
     "metadata": {},
     "output_type": "execute_result"
    }
   ],
   "source": [
    "df_native.columns\n"
   ]
  },
  {
   "cell_type": "code",
   "execution_count": 826,
   "id": "22229610",
   "metadata": {},
   "outputs": [
    {
     "data": {
      "text/plain": [
       "Index(['gender', 'hypertension', 'heart_disease', 'ever_married', 'work_type',\n",
       "       'Residence_type', 'smoking_status'],\n",
       "      dtype='object')"
      ]
     },
     "execution_count": 826,
     "metadata": {},
     "output_type": "execute_result"
    }
   ],
   "source": [
    "df_native.columns[[0,2,3,4,5,6,9]]\n"
   ]
  },
  {
   "cell_type": "markdown",
   "id": "2ae3c122",
   "metadata": {},
   "source": [
    "When we cross-tabulate stroke and categorical variables, we see that hypertension, heart disease, ever_married, and smoking are all correlated with stroke."
   ]
  },
  {
   "cell_type": "code",
   "execution_count": 827,
   "id": "826afc76",
   "metadata": {},
   "outputs": [
    {
     "name": "stdout",
     "output_type": "stream",
     "text": [
      "stroke         0         1\n",
      "gender                    \n",
      "Female  0.586916  0.566265\n",
      "Male    0.412878  0.433735\n",
      "Other   0.000206  0.000000 \n",
      " \n",
      "\n",
      "stroke               0        1\n",
      "hypertension                   \n",
      "0             0.911129  0.73494\n",
      "1             0.088871  0.26506 \n",
      " \n",
      "\n",
      "stroke               0         1\n",
      "heart_disease                   \n",
      "0              0.95289  0.811245\n",
      "1              0.04711  0.188755 \n",
      " \n",
      "\n",
      "stroke               0         1\n",
      "ever_married                    \n",
      "No            0.355482  0.116466\n",
      "Yes           0.644518  0.883534 \n",
      " \n",
      "\n",
      "stroke                0         1\n",
      "work_type                        \n",
      "Govt_job       0.128369  0.132530\n",
      "Never_worked   0.004526  0.000000\n",
      "Private        0.571076  0.598394\n",
      "Self-employed  0.155112  0.261044\n",
      "children       0.140918  0.008032 \n",
      " \n",
      "\n",
      "stroke                 0         1\n",
      "Residence_type                    \n",
      "Rural           0.493726  0.457831\n",
      "Urban           0.506274  0.542169 \n",
      " \n",
      "\n",
      "stroke                  0         1\n",
      "smoking_status                     \n",
      "Unknown          0.307961  0.188755\n",
      "formerly smoked  0.167661  0.281124\n",
      "never smoked     0.370706  0.361446\n",
      "smokes           0.153672  0.168675 \n",
      " \n",
      "\n"
     ]
    }
   ],
   "source": [
    "\n",
    "for i in df_native.columns[[0,2,3,4,5,6,9]]:\n",
    "   \n",
    "    #print(df_native.loc[:,i].value_counts()/len(df_native))\n",
    "    table = pd.crosstab( df_native.loc[:,i],[ df_native.stroke], \n",
    "            rownames = [i], \n",
    "            colnames= [ 'stroke'],\n",
    "            normalize= 'columns')\n",
    "    print(table,'\\n \\n')\n"
   ]
  },
  {
   "cell_type": "code",
   "execution_count": 828,
   "id": "a8fd5635",
   "metadata": {},
   "outputs": [
    {
     "data": {
      "text/plain": [
       "Text(0.5, 1.0, 'Stroke status by Smoking Status')"
      ]
     },
     "execution_count": 828,
     "metadata": {},
     "output_type": "execute_result"
    },
    {
     "data": {
      "image/png": "[encoded data removed]",
      "text/plain": [
       "<Figure size 432x288 with 1 Axes>"
      ]
     },
     "metadata": {
      "needs_background": "light"
     },
     "output_type": "display_data"
    }
   ],
   "source": [
    "sns.countplot(data = df_native, x= 'smoking_status', hue = 'stroke').set_title('Stroke status by Smoking Status')\n"
   ]
  },
  {
   "cell_type": "code",
   "execution_count": 829,
   "id": "250a6ec7",
   "metadata": {},
   "outputs": [
    {
     "data": {
      "text/plain": [
       "Text(0.5, 1.0, 'Stroke occurence among urban versus rural study participants')"
      ]
     },
     "execution_count": 829,
     "metadata": {},
     "output_type": "execute_result"
    },
    {
     "data": {
      "image/png": "[encoded data removed]",
      "text/plain": [
       "<Figure size 432x288 with 1 Axes>"
      ]
     },
     "metadata": {
      "needs_background": "light"
     },
     "output_type": "display_data"
    }
   ],
   "source": [
    "sns.countplot(data = df_native, x= 'Residence_type', hue = 'stroke').set_title('Stroke occurence among urban versus rural study participants')\n"
   ]
  },
  {
   "cell_type": "code",
   "execution_count": 830,
   "id": "8bd40a15",
   "metadata": {},
   "outputs": [
    {
     "data": {
      "text/plain": [
       "Text(0.5, 1.0, 'Work type among study participants and incidence of stroke')"
      ]
     },
     "execution_count": 830,
     "metadata": {},
     "output_type": "execute_result"
    },
    {
     "data": {
      "image/png": "[encoded data removed]",
      "text/plain": [
       "<Figure size 432x288 with 1 Axes>"
      ]
     },
     "metadata": {
      "needs_background": "light"
     },
     "output_type": "display_data"
    }
   ],
   "source": [
    "sns.countplot(data = df_native, x= 'work_type', hue = 'stroke').set_title('Work type among study participants and incidence of stroke')\n"
   ]
  },
  {
   "cell_type": "code",
   "execution_count": 831,
   "id": "d2d3a0a7",
   "metadata": {},
   "outputs": [
    {
     "data": {
      "text/plain": [
       "Text(0.5, 1.0, 'Gender count')"
      ]
     },
     "execution_count": 831,
     "metadata": {},
     "output_type": "execute_result"
    },
    {
     "data": {
      "image/png": "[encoded data removed]",
      "text/plain": [
       "<Figure size 432x288 with 1 Axes>"
      ]
     },
     "metadata": {
      "needs_background": "light"
     },
     "output_type": "display_data"
    }
   ],
   "source": [
    "sns.countplot(data = df, x= 'gender', hue = 'stroke').set_title('Gender count')"
   ]
  },
  {
   "cell_type": "code",
   "execution_count": 832,
   "id": "52ac935a",
   "metadata": {},
   "outputs": [
    {
     "data": {
      "text/plain": [
       "Text(0.5, 1.0, 'Marriage history among study participants and stroke incidence')"
      ]
     },
     "execution_count": 832,
     "metadata": {},
     "output_type": "execute_result"
    },
    {
     "data": {
      "image/png": "[encoded data removed]",
      "text/plain": [
       "<Figure size 432x288 with 1 Axes>"
      ]
     },
     "metadata": {
      "needs_background": "light"
     },
     "output_type": "display_data"
    }
   ],
   "source": [
    "sns.countplot(data = df, x= 'ever_married', hue = 'stroke').set_title('Marriage history among study participants and stroke incidence')\n"
   ]
  },
  {
   "cell_type": "code",
   "execution_count": 833,
   "id": "7da2f0b4",
   "metadata": {},
   "outputs": [
    {
     "data": {
      "text/plain": [
       "Text(0.5, 1.0, 'Heart Disease and Stroke')"
      ]
     },
     "execution_count": 833,
     "metadata": {},
     "output_type": "execute_result"
    },
    {
     "data": {
      "image/png": "[encoded data removed]",
      "text/plain": [
       "<Figure size 432x288 with 1 Axes>"
      ]
     },
     "metadata": {
      "needs_background": "light"
     },
     "output_type": "display_data"
    }
   ],
   "source": [
    "sns.countplot(data = df, x= 'heart_disease', hue = 'stroke').set_title('Heart Disease and Stroke')\n"
   ]
  },
  {
   "cell_type": "code",
   "execution_count": 834,
   "id": "3aeb4e27",
   "metadata": {},
   "outputs": [
    {
     "data": {
      "text/plain": [
       "Text(0.5, 1.0, 'Hypertension')"
      ]
     },
     "execution_count": 834,
     "metadata": {},
     "output_type": "execute_result"
    },
    {
     "data": {
      "image/png": "[encoded data removed]",
      "text/plain": [
       "<Figure size 432x288 with 1 Axes>"
      ]
     },
     "metadata": {
      "needs_background": "light"
     },
     "output_type": "display_data"
    }
   ],
   "source": [
    "sns.countplot(data = df, x= 'hypertension', hue = 'stroke').set_title('Hypertension')\n"
   ]
  },
  {
   "cell_type": "code",
   "execution_count": 866,
   "id": "2648f6d7",
   "metadata": {},
   "outputs": [
    {
     "data": {
      "text/plain": [
       "<seaborn.axisgrid.FacetGrid at 0x7ff718663970>"
      ]
     },
     "execution_count": 866,
     "metadata": {},
     "output_type": "execute_result"
    },
    {
     "data": {
      "image/png": "[encoded data removed]",
      "text/plain": [
       "<Figure size 402.375x360 with 1 Axes>"
      ]
     },
     "metadata": {
      "needs_background": "light"
     },
     "output_type": "display_data"
    }
   ],
   "source": [
    "\n",
    "sns.displot(data=df, x= 'age', hue = 'stroke')\n"
   ]
  },
  {
   "cell_type": "code",
   "execution_count": null,
   "id": "ec500a8d",
   "metadata": {},
   "outputs": [],
   "source": [
    "sns.histplot(data=df, x= 'avg_glucose_level', hue = 'stroke', binwidth= 10).set_title('Average Glucose Level')\n"
   ]
  },
  {
   "cell_type": "code",
   "execution_count": 836,
   "id": "719b21df",
   "metadata": {},
   "outputs": [
    {
     "ename": "SyntaxError",
     "evalue": "positional argument follows keyword argument (1528963571.py, line 1)",
     "output_type": "error",
     "traceback": [
      "\u001b[0;36m  Input \u001b[0;32mIn [836]\u001b[0;36m\u001b[0m\n\u001b[0;31m    sns.histplot(data=df, x= 'bmi', hue = 'stroke', 'BMI Distribution and Stroke')\u001b[0m\n\u001b[0m                                                                                 ^\u001b[0m\n\u001b[0;31mSyntaxError\u001b[0m\u001b[0;31m:\u001b[0m positional argument follows keyword argument\n"
     ]
    }
   ],
   "source": [
    "sns.histplot(data=df, x= 'bmi', hue = 'stroke', 'BMI Distribution and Stroke')"
   ]
  },
  {
   "cell_type": "markdown",
   "id": "f79660af",
   "metadata": {},
   "source": [
    "We also see that age and average glucose level are associated with stroke as well in our study population. "
   ]
  },
  {
   "cell_type": "code",
   "execution_count": 837,
   "id": "7f3afeee",
   "metadata": {},
   "outputs": [
    {
     "data": {
      "text/plain": [
       "Text(0.5, 1.0, 'Age vs Average Glucose Level')"
      ]
     },
     "execution_count": 837,
     "metadata": {},
     "output_type": "execute_result"
    },
    {
     "data": {
      "image/png": "[encoded data removed]",
      "text/plain": [
       "<Figure size 432x288 with 1 Axes>"
      ]
     },
     "metadata": {
      "needs_background": "light"
     },
     "output_type": "display_data"
    }
   ],
   "source": [
    "sns.scatterplot(data = df, x = 'age', y = 'avg_glucose_level', \n",
    "                hue = 'stroke', \n",
    "                style = 'stroke').set_title('Age vs Average Glucose Level')\n",
    "\n"
   ]
  },
  {
   "cell_type": "code",
   "execution_count": 838,
   "id": "14900090",
   "metadata": {},
   "outputs": [
    {
     "ename": "SyntaxError",
     "evalue": "invalid syntax (685333995.py, line 4)",
     "output_type": "error",
     "traceback": [
      "\u001b[0;36m  Input \u001b[0;32mIn [838]\u001b[0;36m\u001b[0m\n\u001b[0;31m    sns.heatmap(num_corr)..set_title('Correlation among variables #1')\u001b[0m\n\u001b[0m                          ^\u001b[0m\n\u001b[0;31mSyntaxError\u001b[0m\u001b[0;31m:\u001b[0m invalid syntax\n"
     ]
    }
   ],
   "source": [
    "#correlation among numeric variables\n",
    "plt.figure(figsize=(10,10))\n",
    "num_corr = df.corr()\n",
    "sns.heatmap(num_corr)..set_title('Correlation among variables #1')"
   ]
  },
  {
   "cell_type": "code",
   "execution_count": 839,
   "id": "61fef4ec",
   "metadata": {},
   "outputs": [
    {
     "data": {
      "text/plain": [
       "Text(0.5, 1.0, 'Correlation among variables #2')"
      ]
     },
     "execution_count": 839,
     "metadata": {},
     "output_type": "execute_result"
    },
    {
     "data": {
      "image/png": "[encoded data removed]",
      "text/plain": [
       "<Figure size 720x720 with 2 Axes>"
      ]
     },
     "metadata": {
      "needs_background": "light"
     },
     "output_type": "display_data"
    }
   ],
   "source": [
    "#correlation among categorical variables\n",
    "plt.figure(figsize=(10,10))\n",
    "correlation = df.iloc[:,[0,2,3,4,5,6,9]].apply(lambda x : pd.factorize(x)[0]).corr(method='pearson', min_periods=1)\n",
    "sns.heatmap(data = correlation).set_title('Correlation among variables #2')"
   ]
  },
  {
   "cell_type": "code",
   "execution_count": 840,
   "id": "e5f5c7be",
   "metadata": {},
   "outputs": [
    {
     "data": {
      "text/html": [
       "<div>\n",
       "<style scoped>\n",
       "    .dataframe tbody tr th:only-of-type {\n",
       "        vertical-align: middle;\n",
       "    }\n",
       "\n",
       "    .dataframe tbody tr th {\n",
       "        vertical-align: top;\n",
       "    }\n",
       "\n",
       "    .dataframe thead th {\n",
       "        text-align: right;\n",
       "    }\n",
       "</style>\n",
       "<table border=\"1\" class=\"dataframe\">\n",
       "  <thead>\n",
       "    <tr style=\"text-align: right;\">\n",
       "      <th>work type</th>\n",
       "      <th>Govt_job</th>\n",
       "      <th>Never_worked</th>\n",
       "      <th>Private</th>\n",
       "      <th>Self-employed</th>\n",
       "      <th>children</th>\n",
       "    </tr>\n",
       "    <tr>\n",
       "      <th>smoking status</th>\n",
       "      <th></th>\n",
       "      <th></th>\n",
       "      <th></th>\n",
       "      <th></th>\n",
       "      <th></th>\n",
       "    </tr>\n",
       "  </thead>\n",
       "  <tbody>\n",
       "    <tr>\n",
       "      <th>Unknown</th>\n",
       "      <td>0.185693</td>\n",
       "      <td>0.363636</td>\n",
       "      <td>0.218878</td>\n",
       "      <td>0.190476</td>\n",
       "      <td>0.899563</td>\n",
       "    </tr>\n",
       "    <tr>\n",
       "      <th>formerly smoked</th>\n",
       "      <td>0.202435</td>\n",
       "      <td>0.000000</td>\n",
       "      <td>0.181259</td>\n",
       "      <td>0.253968</td>\n",
       "      <td>0.018923</td>\n",
       "    </tr>\n",
       "    <tr>\n",
       "      <th>never smoked</th>\n",
       "      <td>0.429224</td>\n",
       "      <td>0.636364</td>\n",
       "      <td>0.414159</td>\n",
       "      <td>0.404151</td>\n",
       "      <td>0.078603</td>\n",
       "    </tr>\n",
       "    <tr>\n",
       "      <th>smokes</th>\n",
       "      <td>0.182648</td>\n",
       "      <td>0.000000</td>\n",
       "      <td>0.185705</td>\n",
       "      <td>0.151404</td>\n",
       "      <td>0.002911</td>\n",
       "    </tr>\n",
       "  </tbody>\n",
       "</table>\n",
       "</div>"
      ],
      "text/plain": [
       "work type        Govt_job  Never_worked   Private  Self-employed  children\n",
       "smoking status                                                            \n",
       "Unknown          0.185693      0.363636  0.218878       0.190476  0.899563\n",
       "formerly smoked  0.202435      0.000000  0.181259       0.253968  0.018923\n",
       "never smoked     0.429224      0.636364  0.414159       0.404151  0.078603\n",
       "smokes           0.182648      0.000000  0.185705       0.151404  0.002911"
      ]
     },
     "execution_count": 840,
     "metadata": {},
     "output_type": "execute_result"
    }
   ],
   "source": [
    "#cross tabulate: \n",
    "# 1.marriage status, smoking status\n",
    "# 2.marriage status , work type\n",
    "# 3. work type, smoking status\n",
    "pd.crosstab(df.smoking_status,[df.work_type], \n",
    "            rownames = ['smoking status'], \n",
    "            colnames= [\"work type\"],\n",
    "            normalize= 'columns'\n",
    "           )"
   ]
  },
  {
   "cell_type": "code",
   "execution_count": 841,
   "id": "fac468f9",
   "metadata": {},
   "outputs": [
    {
     "data": {
      "text/html": [
       "<div>\n",
       "<style scoped>\n",
       "    .dataframe tbody tr th:only-of-type {\n",
       "        vertical-align: middle;\n",
       "    }\n",
       "\n",
       "    .dataframe tbody tr th {\n",
       "        vertical-align: top;\n",
       "    }\n",
       "\n",
       "    .dataframe thead th {\n",
       "        text-align: right;\n",
       "    }\n",
       "</style>\n",
       "<table border=\"1\" class=\"dataframe\">\n",
       "  <thead>\n",
       "    <tr style=\"text-align: right;\">\n",
       "      <th>Marriage history</th>\n",
       "      <th>No</th>\n",
       "      <th>Yes</th>\n",
       "    </tr>\n",
       "    <tr>\n",
       "      <th>smoking status</th>\n",
       "      <th></th>\n",
       "      <th></th>\n",
       "    </tr>\n",
       "  </thead>\n",
       "  <tbody>\n",
       "    <tr>\n",
       "      <th>Unknown</th>\n",
       "      <td>0.513098</td>\n",
       "      <td>0.191769</td>\n",
       "    </tr>\n",
       "    <tr>\n",
       "      <th>formerly smoked</th>\n",
       "      <td>0.083144</td>\n",
       "      <td>0.220101</td>\n",
       "    </tr>\n",
       "    <tr>\n",
       "      <th>never smoked</th>\n",
       "      <td>0.301822</td>\n",
       "      <td>0.406203</td>\n",
       "    </tr>\n",
       "    <tr>\n",
       "      <th>smokes</th>\n",
       "      <td>0.101936</td>\n",
       "      <td>0.181927</td>\n",
       "    </tr>\n",
       "  </tbody>\n",
       "</table>\n",
       "</div>"
      ],
      "text/plain": [
       "Marriage history        No       Yes\n",
       "smoking status                      \n",
       "Unknown           0.513098  0.191769\n",
       "formerly smoked   0.083144  0.220101\n",
       "never smoked      0.301822  0.406203\n",
       "smokes            0.101936  0.181927"
      ]
     },
     "execution_count": 841,
     "metadata": {},
     "output_type": "execute_result"
    }
   ],
   "source": [
    "pd.crosstab(df.smoking_status,[ df.ever_married], \n",
    "            rownames = ['smoking status'], \n",
    "            colnames= [ \"Marriage history\"],\n",
    "           normalize= 'columns')"
   ]
  },
  {
   "cell_type": "code",
   "execution_count": 842,
   "id": "74de7a15",
   "metadata": {},
   "outputs": [
    {
     "data": {
      "text/html": [
       "<div>\n",
       "<style scoped>\n",
       "    .dataframe tbody tr th:only-of-type {\n",
       "        vertical-align: middle;\n",
       "    }\n",
       "\n",
       "    .dataframe tbody tr th {\n",
       "        vertical-align: top;\n",
       "    }\n",
       "\n",
       "    .dataframe thead th {\n",
       "        text-align: right;\n",
       "    }\n",
       "</style>\n",
       "<table border=\"1\" class=\"dataframe\">\n",
       "  <thead>\n",
       "    <tr style=\"text-align: right;\">\n",
       "      <th>Marriage history</th>\n",
       "      <th>No</th>\n",
       "      <th>Yes</th>\n",
       "    </tr>\n",
       "    <tr>\n",
       "      <th>Work type</th>\n",
       "      <th></th>\n",
       "      <th></th>\n",
       "    </tr>\n",
       "  </thead>\n",
       "  <tbody>\n",
       "    <tr>\n",
       "      <th>Govt_job</th>\n",
       "      <td>0.066629</td>\n",
       "      <td>0.161050</td>\n",
       "    </tr>\n",
       "    <tr>\n",
       "      <th>Never_worked</th>\n",
       "      <td>0.012528</td>\n",
       "      <td>0.000000</td>\n",
       "    </tr>\n",
       "    <tr>\n",
       "      <th>Private</th>\n",
       "      <td>0.466970</td>\n",
       "      <td>0.627498</td>\n",
       "    </tr>\n",
       "    <tr>\n",
       "      <th>Self-employed</th>\n",
       "      <td>0.062642</td>\n",
       "      <td>0.211452</td>\n",
       "    </tr>\n",
       "    <tr>\n",
       "      <th>children</th>\n",
       "      <td>0.391230</td>\n",
       "      <td>0.000000</td>\n",
       "    </tr>\n",
       "  </tbody>\n",
       "</table>\n",
       "</div>"
      ],
      "text/plain": [
       "Marriage history        No       Yes\n",
       "Work type                           \n",
       "Govt_job          0.066629  0.161050\n",
       "Never_worked      0.012528  0.000000\n",
       "Private           0.466970  0.627498\n",
       "Self-employed     0.062642  0.211452\n",
       "children          0.391230  0.000000"
      ]
     },
     "execution_count": 842,
     "metadata": {},
     "output_type": "execute_result"
    }
   ],
   "source": [
    "pd.crosstab(df.work_type,[df.ever_married], \n",
    "            rownames = ['Work type'], \n",
    "            colnames= [\"Marriage history\"],\n",
    "            normalize= 'columns'\n",
    "           )"
   ]
  },
  {
   "cell_type": "markdown",
   "id": "9c9fad33",
   "metadata": {},
   "source": [
    "### Feature Engineering and Selection\n",
    "\n",
    "After resolving missing data and removing rare observations, we proceed with feature engineering. Building the ML model requires numeric values only, so the purpose here is to:\n",
    "- Convert categorical variables that either are binary (e.g., gender, ever_married, Residence_type) have a hierarchical quality to ordinal variables (not applicable in this data set)\n",
    "- Convert categorical variables that have no hierarchy (e.g., work_type, smoking_status) to boolean dummy variables using the one-hot encoding method\n",
    "- Remove any variables that appear superfluous and unlikely to include meaningful information in prediction of stroke\n"
   ]
  },
  {
   "cell_type": "code",
   "execution_count": 843,
   "id": "ef1c77d1",
   "metadata": {},
   "outputs": [
    {
     "data": {
      "text/html": [
       "<div>\n",
       "<style scoped>\n",
       "    .dataframe tbody tr th:only-of-type {\n",
       "        vertical-align: middle;\n",
       "    }\n",
       "\n",
       "    .dataframe tbody tr th {\n",
       "        vertical-align: top;\n",
       "    }\n",
       "\n",
       "    .dataframe thead th {\n",
       "        text-align: right;\n",
       "    }\n",
       "</style>\n",
       "<table border=\"1\" class=\"dataframe\">\n",
       "  <thead>\n",
       "    <tr style=\"text-align: right;\">\n",
       "      <th></th>\n",
       "      <th>gender</th>\n",
       "      <th>age</th>\n",
       "      <th>hypertension</th>\n",
       "      <th>heart_disease</th>\n",
       "      <th>ever_married</th>\n",
       "      <th>work_type</th>\n",
       "      <th>Residence_type</th>\n",
       "      <th>avg_glucose_level</th>\n",
       "      <th>bmi</th>\n",
       "      <th>smoking_status</th>\n",
       "      <th>stroke</th>\n",
       "    </tr>\n",
       "    <tr>\n",
       "      <th>id</th>\n",
       "      <th></th>\n",
       "      <th></th>\n",
       "      <th></th>\n",
       "      <th></th>\n",
       "      <th></th>\n",
       "      <th></th>\n",
       "      <th></th>\n",
       "      <th></th>\n",
       "      <th></th>\n",
       "      <th></th>\n",
       "      <th></th>\n",
       "    </tr>\n",
       "  </thead>\n",
       "  <tbody>\n",
       "    <tr>\n",
       "      <th>9046</th>\n",
       "      <td>Male</td>\n",
       "      <td>67.0</td>\n",
       "      <td>0</td>\n",
       "      <td>1</td>\n",
       "      <td>Yes</td>\n",
       "      <td>Private</td>\n",
       "      <td>Urban</td>\n",
       "      <td>228.69</td>\n",
       "      <td>36.600000</td>\n",
       "      <td>formerly smoked</td>\n",
       "      <td>1</td>\n",
       "    </tr>\n",
       "    <tr>\n",
       "      <th>51676</th>\n",
       "      <td>Female</td>\n",
       "      <td>61.0</td>\n",
       "      <td>0</td>\n",
       "      <td>0</td>\n",
       "      <td>Yes</td>\n",
       "      <td>Self-employed</td>\n",
       "      <td>Rural</td>\n",
       "      <td>202.21</td>\n",
       "      <td>32.209184</td>\n",
       "      <td>never smoked</td>\n",
       "      <td>1</td>\n",
       "    </tr>\n",
       "    <tr>\n",
       "      <th>31112</th>\n",
       "      <td>Male</td>\n",
       "      <td>80.0</td>\n",
       "      <td>0</td>\n",
       "      <td>1</td>\n",
       "      <td>Yes</td>\n",
       "      <td>Private</td>\n",
       "      <td>Rural</td>\n",
       "      <td>105.92</td>\n",
       "      <td>32.500000</td>\n",
       "      <td>never smoked</td>\n",
       "      <td>1</td>\n",
       "    </tr>\n",
       "    <tr>\n",
       "      <th>60182</th>\n",
       "      <td>Female</td>\n",
       "      <td>49.0</td>\n",
       "      <td>0</td>\n",
       "      <td>0</td>\n",
       "      <td>Yes</td>\n",
       "      <td>Private</td>\n",
       "      <td>Urban</td>\n",
       "      <td>171.23</td>\n",
       "      <td>34.400000</td>\n",
       "      <td>smokes</td>\n",
       "      <td>1</td>\n",
       "    </tr>\n",
       "    <tr>\n",
       "      <th>1665</th>\n",
       "      <td>Female</td>\n",
       "      <td>79.0</td>\n",
       "      <td>1</td>\n",
       "      <td>0</td>\n",
       "      <td>Yes</td>\n",
       "      <td>Self-employed</td>\n",
       "      <td>Rural</td>\n",
       "      <td>174.12</td>\n",
       "      <td>24.000000</td>\n",
       "      <td>never smoked</td>\n",
       "      <td>1</td>\n",
       "    </tr>\n",
       "  </tbody>\n",
       "</table>\n",
       "</div>"
      ],
      "text/plain": [
       "       gender   age  hypertension  heart_disease ever_married      work_type  \\\n",
       "id                                                                             \n",
       "9046     Male  67.0             0              1          Yes        Private   \n",
       "51676  Female  61.0             0              0          Yes  Self-employed   \n",
       "31112    Male  80.0             0              1          Yes        Private   \n",
       "60182  Female  49.0             0              0          Yes        Private   \n",
       "1665   Female  79.0             1              0          Yes  Self-employed   \n",
       "\n",
       "      Residence_type  avg_glucose_level        bmi   smoking_status  stroke  \n",
       "id                                                                           \n",
       "9046           Urban             228.69  36.600000  formerly smoked       1  \n",
       "51676          Rural             202.21  32.209184     never smoked       1  \n",
       "31112          Rural             105.92  32.500000     never smoked       1  \n",
       "60182          Urban             171.23  34.400000           smokes       1  \n",
       "1665           Rural             174.12  24.000000     never smoked       1  "
      ]
     },
     "execution_count": 843,
     "metadata": {},
     "output_type": "execute_result"
    }
   ],
   "source": [
    "df.head()"
   ]
  },
  {
   "cell_type": "code",
   "execution_count": 844,
   "id": "aa50f6a8",
   "metadata": {},
   "outputs": [],
   "source": [
    "#transform categorical variables to boolean\n",
    "#transform categorical variables to boolean\n",
    "df.loc[:,'gender'] = pd.get_dummies(df.gender, drop_first=True).values\n"
   ]
  },
  {
   "cell_type": "code",
   "execution_count": 845,
   "id": "774335a6",
   "metadata": {},
   "outputs": [],
   "source": [
    "df.loc[:,'ever_married'] = pd.get_dummies(df.ever_married, drop_first=True).values\n",
    "df.loc[:,'Residence_type'] = pd.get_dummies(df.Residence_type, drop_first=True).values"
   ]
  },
  {
   "cell_type": "code",
   "execution_count": 846,
   "id": "da17cdd9",
   "metadata": {},
   "outputs": [],
   "source": [
    "#encode one-hot variables/dummy variables\n",
    "#remove one of the dummy variables so that the set of variables are not linearly dependent (drop_first = True)\n",
    "#work_type\n",
    "df = pd.concat([df, pd.get_dummies(df.work_type, drop_first=True)], axis = 1).drop(columns=\"work_type\")\n",
    "\n"
   ]
  },
  {
   "cell_type": "code",
   "execution_count": 847,
   "id": "225b2890",
   "metadata": {},
   "outputs": [],
   "source": [
    "#encode one-hot variables/dummy variables\n",
    "#remove one of the dummy variables so that the set of variables are not linearly dependent (drop_first = True)\n",
    "#smoking status\n",
    "\n",
    "df = pd.concat([df, pd.get_dummies(df.smoking_status, drop_first = True)], axis = 1).drop(columns=\"smoking_status\")\n",
    "\n"
   ]
  },
  {
   "cell_type": "code",
   "execution_count": null,
   "id": "fe96d0a2",
   "metadata": {},
   "outputs": [],
   "source": []
  },
  {
   "cell_type": "code",
   "execution_count": 848,
   "id": "6e052633",
   "metadata": {},
   "outputs": [
    {
     "data": {
      "text/html": [
       "<div>\n",
       "<style scoped>\n",
       "    .dataframe tbody tr th:only-of-type {\n",
       "        vertical-align: middle;\n",
       "    }\n",
       "\n",
       "    .dataframe tbody tr th {\n",
       "        vertical-align: top;\n",
       "    }\n",
       "\n",
       "    .dataframe thead th {\n",
       "        text-align: right;\n",
       "    }\n",
       "</style>\n",
       "<table border=\"1\" class=\"dataframe\">\n",
       "  <thead>\n",
       "    <tr style=\"text-align: right;\">\n",
       "      <th></th>\n",
       "      <th>gender</th>\n",
       "      <th>age</th>\n",
       "      <th>hypertension</th>\n",
       "      <th>heart_disease</th>\n",
       "      <th>ever_married</th>\n",
       "      <th>Residence_type</th>\n",
       "      <th>avg_glucose_level</th>\n",
       "      <th>bmi</th>\n",
       "      <th>stroke</th>\n",
       "      <th>Never_worked</th>\n",
       "      <th>Private</th>\n",
       "      <th>Self-employed</th>\n",
       "      <th>children</th>\n",
       "      <th>formerly smoked</th>\n",
       "      <th>never smoked</th>\n",
       "      <th>smokes</th>\n",
       "    </tr>\n",
       "    <tr>\n",
       "      <th>id</th>\n",
       "      <th></th>\n",
       "      <th></th>\n",
       "      <th></th>\n",
       "      <th></th>\n",
       "      <th></th>\n",
       "      <th></th>\n",
       "      <th></th>\n",
       "      <th></th>\n",
       "      <th></th>\n",
       "      <th></th>\n",
       "      <th></th>\n",
       "      <th></th>\n",
       "      <th></th>\n",
       "      <th></th>\n",
       "      <th></th>\n",
       "      <th></th>\n",
       "    </tr>\n",
       "  </thead>\n",
       "  <tbody>\n",
       "    <tr>\n",
       "      <th>9046</th>\n",
       "      <td>1</td>\n",
       "      <td>67.0</td>\n",
       "      <td>0</td>\n",
       "      <td>1</td>\n",
       "      <td>1</td>\n",
       "      <td>1</td>\n",
       "      <td>228.69</td>\n",
       "      <td>36.600000</td>\n",
       "      <td>1</td>\n",
       "      <td>0</td>\n",
       "      <td>1</td>\n",
       "      <td>0</td>\n",
       "      <td>0</td>\n",
       "      <td>1</td>\n",
       "      <td>0</td>\n",
       "      <td>0</td>\n",
       "    </tr>\n",
       "    <tr>\n",
       "      <th>51676</th>\n",
       "      <td>0</td>\n",
       "      <td>61.0</td>\n",
       "      <td>0</td>\n",
       "      <td>0</td>\n",
       "      <td>1</td>\n",
       "      <td>0</td>\n",
       "      <td>202.21</td>\n",
       "      <td>32.209184</td>\n",
       "      <td>1</td>\n",
       "      <td>0</td>\n",
       "      <td>0</td>\n",
       "      <td>1</td>\n",
       "      <td>0</td>\n",
       "      <td>0</td>\n",
       "      <td>1</td>\n",
       "      <td>0</td>\n",
       "    </tr>\n",
       "    <tr>\n",
       "      <th>31112</th>\n",
       "      <td>1</td>\n",
       "      <td>80.0</td>\n",
       "      <td>0</td>\n",
       "      <td>1</td>\n",
       "      <td>1</td>\n",
       "      <td>0</td>\n",
       "      <td>105.92</td>\n",
       "      <td>32.500000</td>\n",
       "      <td>1</td>\n",
       "      <td>0</td>\n",
       "      <td>1</td>\n",
       "      <td>0</td>\n",
       "      <td>0</td>\n",
       "      <td>0</td>\n",
       "      <td>1</td>\n",
       "      <td>0</td>\n",
       "    </tr>\n",
       "    <tr>\n",
       "      <th>60182</th>\n",
       "      <td>0</td>\n",
       "      <td>49.0</td>\n",
       "      <td>0</td>\n",
       "      <td>0</td>\n",
       "      <td>1</td>\n",
       "      <td>1</td>\n",
       "      <td>171.23</td>\n",
       "      <td>34.400000</td>\n",
       "      <td>1</td>\n",
       "      <td>0</td>\n",
       "      <td>1</td>\n",
       "      <td>0</td>\n",
       "      <td>0</td>\n",
       "      <td>0</td>\n",
       "      <td>0</td>\n",
       "      <td>1</td>\n",
       "    </tr>\n",
       "    <tr>\n",
       "      <th>1665</th>\n",
       "      <td>0</td>\n",
       "      <td>79.0</td>\n",
       "      <td>1</td>\n",
       "      <td>0</td>\n",
       "      <td>1</td>\n",
       "      <td>0</td>\n",
       "      <td>174.12</td>\n",
       "      <td>24.000000</td>\n",
       "      <td>1</td>\n",
       "      <td>0</td>\n",
       "      <td>0</td>\n",
       "      <td>1</td>\n",
       "      <td>0</td>\n",
       "      <td>0</td>\n",
       "      <td>1</td>\n",
       "      <td>0</td>\n",
       "    </tr>\n",
       "  </tbody>\n",
       "</table>\n",
       "</div>"
      ],
      "text/plain": [
       "       gender   age  hypertension  heart_disease  ever_married  \\\n",
       "id                                                               \n",
       "9046        1  67.0             0              1             1   \n",
       "51676       0  61.0             0              0             1   \n",
       "31112       1  80.0             0              1             1   \n",
       "60182       0  49.0             0              0             1   \n",
       "1665        0  79.0             1              0             1   \n",
       "\n",
       "       Residence_type  avg_glucose_level        bmi  stroke  Never_worked  \\\n",
       "id                                                                          \n",
       "9046                1             228.69  36.600000       1             0   \n",
       "51676               0             202.21  32.209184       1             0   \n",
       "31112               0             105.92  32.500000       1             0   \n",
       "60182               1             171.23  34.400000       1             0   \n",
       "1665                0             174.12  24.000000       1             0   \n",
       "\n",
       "       Private  Self-employed  children  formerly smoked  never smoked  smokes  \n",
       "id                                                                              \n",
       "9046         1              0         0                1             0       0  \n",
       "51676        0              1         0                0             1       0  \n",
       "31112        1              0         0                0             1       0  \n",
       "60182        1              0         0                0             0       1  \n",
       "1665         0              1         0                0             1       0  "
      ]
     },
     "execution_count": 848,
     "metadata": {},
     "output_type": "execute_result"
    }
   ],
   "source": [
    "df.head()"
   ]
  },
  {
   "cell_type": "markdown",
   "id": "dfaf20f7",
   "metadata": {},
   "source": [
    "All categorical variables have been converted to dummy variables. None of the variables seem superfluous; however, we know that smoking, ever_married, and work_type are not fully indpendent of each other, as discussed above. For model training, we'll test: \n",
    "1) A full model with all features\n",
    "\n",
    "2) A model including smoking, but not ever_married and work_type\n",
    "\n",
    "3) A model including ever_married, but not smoking and work_type\n",
    "\n",
    "4) A model including work_type, but not ever_married and smoking\n"
   ]
  },
  {
   "cell_type": "code",
   "execution_count": 849,
   "id": "0cf6b3b3",
   "metadata": {},
   "outputs": [],
   "source": [
    "#set x and y columns\n",
    "#df_y = df.loc[:,'stroke']\n",
    "#df_x =df.drop('stroke', axis = 1)\n"
   ]
  },
  {
   "cell_type": "code",
   "execution_count": 850,
   "id": "ee21ad1f",
   "metadata": {},
   "outputs": [],
   "source": [
    "#full features  set 1\n",
    "df_1 = df\n",
    "\n",
    "\n",
    "#smoking, but not ever_married and work_type\n",
    "\n",
    "#NOTE: WEIGHTED SAMPLING\n",
    "df_2 = df_sample1.drop(['ever_married',\n",
    "                  'Never_worked', 'Private', 'Self-employed', 'children'], \n",
    "                 axis = 1)\n",
    "\n",
    "#ever_married, but not smoking and work_type\n",
    "df_3 = df_sample1.drop(['formerly smoked', 'never smoked', 'smokes',\n",
    "                  'Never_worked', 'Private', 'Self-employed', 'children'], \n",
    "                 axis = 1)\n",
    "\n",
    "#work_type, but not ever_married and smoking\n",
    "df_4 = df_sample1.drop(['ever_married',\n",
    "                  'formerly smoked', 'never smoked', 'smokes'], axis = 1)"
   ]
  },
  {
   "cell_type": "markdown",
   "id": "ac5e7331",
   "metadata": {},
   "source": [
    "Full features set 1"
   ]
  },
  {
   "cell_type": "code",
   "execution_count": 851,
   "id": "6d11ea0b",
   "metadata": {},
   "outputs": [
    {
     "data": {
      "text/html": [
       "<div>\n",
       "<style scoped>\n",
       "    .dataframe tbody tr th:only-of-type {\n",
       "        vertical-align: middle;\n",
       "    }\n",
       "\n",
       "    .dataframe tbody tr th {\n",
       "        vertical-align: top;\n",
       "    }\n",
       "\n",
       "    .dataframe thead th {\n",
       "        text-align: right;\n",
       "    }\n",
       "</style>\n",
       "<table border=\"1\" class=\"dataframe\">\n",
       "  <thead>\n",
       "    <tr style=\"text-align: right;\">\n",
       "      <th></th>\n",
       "      <th>gender</th>\n",
       "      <th>age</th>\n",
       "      <th>hypertension</th>\n",
       "      <th>heart_disease</th>\n",
       "      <th>Residence_type</th>\n",
       "      <th>avg_glucose_level</th>\n",
       "      <th>bmi</th>\n",
       "      <th>stroke</th>\n",
       "      <th>Never_worked</th>\n",
       "      <th>Private</th>\n",
       "      <th>Self-employed</th>\n",
       "      <th>children</th>\n",
       "    </tr>\n",
       "    <tr>\n",
       "      <th>id</th>\n",
       "      <th></th>\n",
       "      <th></th>\n",
       "      <th></th>\n",
       "      <th></th>\n",
       "      <th></th>\n",
       "      <th></th>\n",
       "      <th></th>\n",
       "      <th></th>\n",
       "      <th></th>\n",
       "      <th></th>\n",
       "      <th></th>\n",
       "      <th></th>\n",
       "    </tr>\n",
       "  </thead>\n",
       "  <tbody>\n",
       "    <tr>\n",
       "      <th>9046</th>\n",
       "      <td>1</td>\n",
       "      <td>67.0</td>\n",
       "      <td>0</td>\n",
       "      <td>1</td>\n",
       "      <td>1</td>\n",
       "      <td>228.69</td>\n",
       "      <td>36.600000</td>\n",
       "      <td>1</td>\n",
       "      <td>0</td>\n",
       "      <td>1</td>\n",
       "      <td>0</td>\n",
       "      <td>0</td>\n",
       "    </tr>\n",
       "    <tr>\n",
       "      <th>51676</th>\n",
       "      <td>0</td>\n",
       "      <td>61.0</td>\n",
       "      <td>0</td>\n",
       "      <td>0</td>\n",
       "      <td>0</td>\n",
       "      <td>202.21</td>\n",
       "      <td>32.209184</td>\n",
       "      <td>1</td>\n",
       "      <td>0</td>\n",
       "      <td>0</td>\n",
       "      <td>1</td>\n",
       "      <td>0</td>\n",
       "    </tr>\n",
       "    <tr>\n",
       "      <th>31112</th>\n",
       "      <td>1</td>\n",
       "      <td>80.0</td>\n",
       "      <td>0</td>\n",
       "      <td>1</td>\n",
       "      <td>0</td>\n",
       "      <td>105.92</td>\n",
       "      <td>32.500000</td>\n",
       "      <td>1</td>\n",
       "      <td>0</td>\n",
       "      <td>1</td>\n",
       "      <td>0</td>\n",
       "      <td>0</td>\n",
       "    </tr>\n",
       "    <tr>\n",
       "      <th>60182</th>\n",
       "      <td>0</td>\n",
       "      <td>49.0</td>\n",
       "      <td>0</td>\n",
       "      <td>0</td>\n",
       "      <td>1</td>\n",
       "      <td>171.23</td>\n",
       "      <td>34.400000</td>\n",
       "      <td>1</td>\n",
       "      <td>0</td>\n",
       "      <td>1</td>\n",
       "      <td>0</td>\n",
       "      <td>0</td>\n",
       "    </tr>\n",
       "    <tr>\n",
       "      <th>1665</th>\n",
       "      <td>0</td>\n",
       "      <td>79.0</td>\n",
       "      <td>1</td>\n",
       "      <td>0</td>\n",
       "      <td>0</td>\n",
       "      <td>174.12</td>\n",
       "      <td>24.000000</td>\n",
       "      <td>1</td>\n",
       "      <td>0</td>\n",
       "      <td>0</td>\n",
       "      <td>1</td>\n",
       "      <td>0</td>\n",
       "    </tr>\n",
       "  </tbody>\n",
       "</table>\n",
       "</div>"
      ],
      "text/plain": [
       "       gender   age  hypertension  heart_disease  Residence_type  \\\n",
       "id                                                                 \n",
       "9046        1  67.0             0              1               1   \n",
       "51676       0  61.0             0              0               0   \n",
       "31112       1  80.0             0              1               0   \n",
       "60182       0  49.0             0              0               1   \n",
       "1665        0  79.0             1              0               0   \n",
       "\n",
       "       avg_glucose_level        bmi  stroke  Never_worked  Private  \\\n",
       "id                                                                   \n",
       "9046              228.69  36.600000       1             0        1   \n",
       "51676             202.21  32.209184       1             0        0   \n",
       "31112             105.92  32.500000       1             0        1   \n",
       "60182             171.23  34.400000       1             0        1   \n",
       "1665              174.12  24.000000       1             0        0   \n",
       "\n",
       "       Self-employed  children  \n",
       "id                              \n",
       "9046               0         0  \n",
       "51676              1         0  \n",
       "31112              0         0  \n",
       "60182              0         0  \n",
       "1665               1         0  "
      ]
     },
     "execution_count": 851,
     "metadata": {},
     "output_type": "execute_result"
    }
   ],
   "source": [
    "df_4.head()"
   ]
  },
  {
   "cell_type": "code",
   "execution_count": 852,
   "id": "8b8a8ae2",
   "metadata": {},
   "outputs": [
    {
     "data": {
      "text/plain": [
       "Index(['gender', 'age', 'hypertension', 'heart_disease', 'ever_married',\n",
       "       'Residence_type', 'avg_glucose_level', 'bmi', 'stroke', 'Never_worked',\n",
       "       'Private', 'Self-employed', 'children', 'formerly smoked',\n",
       "       'never smoked', 'smokes'],\n",
       "      dtype='object')"
      ]
     },
     "execution_count": 852,
     "metadata": {},
     "output_type": "execute_result"
    }
   ],
   "source": [
    "df_1.columns\n"
   ]
  },
  {
   "cell_type": "markdown",
   "id": "450844b0",
   "metadata": {},
   "source": [
    "Features set 2"
   ]
  },
  {
   "cell_type": "code",
   "execution_count": 853,
   "id": "75aba296",
   "metadata": {},
   "outputs": [
    {
     "data": {
      "text/plain": [
       "Index(['gender', 'age', 'hypertension', 'heart_disease', 'Residence_type',\n",
       "       'avg_glucose_level', 'bmi', 'stroke', 'formerly smoked', 'never smoked',\n",
       "       'smokes'],\n",
       "      dtype='object')"
      ]
     },
     "execution_count": 853,
     "metadata": {},
     "output_type": "execute_result"
    }
   ],
   "source": [
    "df_2.columns"
   ]
  },
  {
   "cell_type": "markdown",
   "id": "49178fee",
   "metadata": {},
   "source": [
    "Features set 3"
   ]
  },
  {
   "cell_type": "code",
   "execution_count": 854,
   "id": "6b297762",
   "metadata": {},
   "outputs": [
    {
     "data": {
      "text/plain": [
       "Index(['gender', 'age', 'hypertension', 'heart_disease', 'ever_married',\n",
       "       'Residence_type', 'avg_glucose_level', 'bmi', 'stroke'],\n",
       "      dtype='object')"
      ]
     },
     "execution_count": 854,
     "metadata": {},
     "output_type": "execute_result"
    }
   ],
   "source": [
    "df_3.columns"
   ]
  },
  {
   "cell_type": "code",
   "execution_count": null,
   "id": "d9fc9e86",
   "metadata": {},
   "outputs": [],
   "source": []
  },
  {
   "cell_type": "markdown",
   "id": "474aa91c",
   "metadata": {},
   "source": [
    "Features set 4"
   ]
  },
  {
   "cell_type": "code",
   "execution_count": 855,
   "id": "74b504e6",
   "metadata": {},
   "outputs": [
    {
     "data": {
      "text/plain": [
       "Index(['gender', 'age', 'hypertension', 'heart_disease', 'Residence_type',\n",
       "       'avg_glucose_level', 'bmi', 'stroke', 'Never_worked', 'Private',\n",
       "       'Self-employed', 'children'],\n",
       "      dtype='object')"
      ]
     },
     "execution_count": 855,
     "metadata": {},
     "output_type": "execute_result"
    }
   ],
   "source": [
    "df_4.columns"
   ]
  },
  {
   "cell_type": "code",
   "execution_count": 856,
   "id": "15d4f5a3",
   "metadata": {},
   "outputs": [],
   "source": [
    "stroke = df_1.loc[(df_1.stroke == 1),]\n",
    "no_stroke =     df_1.loc[(df_1.stroke == 0),].sample(n=250)\n",
    "df_sample1 = pd.concat([stroke, no_stroke])\n"
   ]
  },
  {
   "cell_type": "markdown",
   "id": "28d779de",
   "metadata": {},
   "source": [
    "### Model Training\n",
    "\n",
    "Here we will build 4 different models with our four sets of features: 1) linear regression, 2) decision tree, 3) random forest, 4) multi-layer perceptron (neural network).\n",
    "\n",
    "#### Key findings\n",
    "\n",
    "The logistic regression model was unable to predict occurrence of stroke in the complete data set. When the data were resampled, such that stroke patient data were completely sampled (n=249) and non-stroke patient data were randomly undersampled(n=250), prediction accuracy improved. "
   ]
  },
  {
   "cell_type": "code",
   "execution_count": 857,
   "id": "8af8c1d4",
   "metadata": {},
   "outputs": [],
   "source": [
    "'''\n",
    "Our model builder function will accomplish the following:\n",
    "- perform train, test split\n",
    "- get values of columns for training data\n",
    "- get values of columns for test data\n",
    "- fit logistic regression to predict stroke\n",
    "- fit a decision tree classifier to predict stroke\n",
    "- fit a random forest to predict stroke\n",
    "- for each model, produce a classification report\n",
    "'''\n",
    "\n",
    "# import libraries\n",
    "from sklearn.model_selection import train_test_split\n",
    "from sklearn.linear_model import LogisticRegression\n",
    "from sklearn.metrics import classification_report\n",
    "from sklearn.metrics import confusion_matrix\n",
    "from sklearn.tree import DecisionTreeClassifier\n",
    "from sklearn.ensemble import RandomForestClassifier\n",
    "from sklearn.neural_network import MLPClassifier\n",
    "\n",
    "\n",
    "def Model_builder (df_model):\n",
    "    #split data for training and testing\n",
    "    df_train, df_test = train_test_split(df_model,\n",
    "                                         test_size = 0.2, random_state=0)\n",
    "    \n",
    "        #get values for training\n",
    "    X_train = df_train.loc[ : , df_train.columns].drop('stroke', axis = 1).values\n",
    "    y_train = df_train.stroke.values\n",
    "    \n",
    "    #get values for testing    \n",
    "    X_test = df_test.loc[ : , df_test.columns].drop('stroke', axis = 1).values\n",
    "    y_test = df_test.stroke.values\n",
    "    \n",
    "    \n",
    "    #LOGISTIC REGRESSION MODEL\n",
    "    #initialize\n",
    "    lr_model = LogisticRegression(random_state=0,max_iter=1000)\n",
    "    \n",
    "    #train model\n",
    "    lr_model.fit(X = X_train, y= y_train)\n",
    "    \n",
    "    #predict using test data and our logistic regression model\n",
    "    y_test_predicted = lr_model.predict(X_test)\n",
    "    \n",
    "    #regression model accuracy report\n",
    "    report_lr =classification_report(y_true=y_test, \n",
    "                                     y_pred=y_test_predicted)\n",
    "    \n",
    "    cf = pd.DataFrame(\n",
    "    columns=[\"y_pred_0\",\"y_pred_1\"],index=[\"y_test_0\",\"y_test_1\"])    \n",
    "    \n",
    "    cf.loc[:,:] = confusion_matrix(\n",
    "        y_true= y_test,\n",
    "        y_pred = y_test_predicted) \n",
    "\n",
    "    report =classification_report(y_true=y_test, y_pred=y_test_predicted)\n",
    "    print(cf)\n",
    "    print('The classification report for the logistic regression model is:\\n\\n',report)\n",
    "    \n",
    "    \n",
    "    #DECISION TREE MODEL\n",
    "    #initialize\n",
    "    dt_model = DecisionTreeClassifier()\n",
    "    dt_model.fit(X=X_train,y=y_train)\n",
    "    y_test_predicted_dt = dt_model.predict(X_test)\n",
    "    report_dt = classification_report(y_pred=y_test_predicted_dt,y_true=y_test)\n",
    "    print('The classification report for the Decision Tree Model is:\\n\\n', report_dt)\n",
    "    \n",
    "\n",
    "    #RANDOM FOREST MODEL\n",
    "    #Initialize\n",
    "    rf_model = RandomForestClassifier()\n",
    "    rf_model.fit(X=X_train,y=y_train)\n",
    "    y_test_predicted_rf = rf_model.predict(X_test)\n",
    "    report_rf = classification_report(y_pred=y_test_predicted_rf,y_true=y_test)\n",
    "    print('The classification report for the Random Forest Model is:\\n\\n', report_rf)\n",
    "    \n",
    "    #MULTI-LAYER PERCEPTRON CLASSIFIER\n",
    "    #initialize\n",
    "    nn_model = MLPClassifier(hidden_layer_sizes=(20, 10),max_iter=1000)\n",
    "    nn_model.fit(X=X_train,y=y_train)\n",
    "    y_test_predicted_nn = nn_model.predict(X_test)\n",
    "    report_nn = classification_report(y_pred=y_test_predicted_nn,y_true=y_test)\n",
    "    print('The classification report for the MLP model is:\\n\\n',report_nn)"
   ]
  },
  {
   "cell_type": "code",
   "execution_count": 858,
   "id": "701e5a05",
   "metadata": {},
   "outputs": [
    {
     "name": "stdout",
     "output_type": "stream",
     "text": [
      "         y_pred_0 y_pred_1\n",
      "y_test_0      968        0\n",
      "y_test_1       53        1\n",
      "The classification report for the logistic regression model is:\n",
      "\n",
      "               precision    recall  f1-score   support\n",
      "\n",
      "           0       0.95      1.00      0.97       968\n",
      "           1       1.00      0.02      0.04        54\n",
      "\n",
      "    accuracy                           0.95      1022\n",
      "   macro avg       0.97      0.51      0.50      1022\n",
      "weighted avg       0.95      0.95      0.92      1022\n",
      "\n",
      "The classification report for the Decision Tree Model is:\n",
      "\n",
      "               precision    recall  f1-score   support\n",
      "\n",
      "           0       0.95      0.96      0.95       968\n",
      "           1       0.13      0.11      0.12        54\n",
      "\n",
      "    accuracy                           0.91      1022\n",
      "   macro avg       0.54      0.53      0.54      1022\n",
      "weighted avg       0.91      0.91      0.91      1022\n",
      "\n",
      "The classification report for the Random Forest Model is:\n",
      "\n",
      "               precision    recall  f1-score   support\n",
      "\n",
      "           0       0.95      1.00      0.97       968\n",
      "           1       0.00      0.00      0.00        54\n",
      "\n",
      "    accuracy                           0.95      1022\n",
      "   macro avg       0.47      0.50      0.49      1022\n",
      "weighted avg       0.90      0.95      0.92      1022\n",
      "\n",
      "The classification report for the MLP model is:\n",
      "\n",
      "               precision    recall  f1-score   support\n",
      "\n",
      "           0       0.95      1.00      0.97       968\n",
      "           1       0.00      0.00      0.00        54\n",
      "\n",
      "    accuracy                           0.95      1022\n",
      "   macro avg       0.47      0.50      0.49      1022\n",
      "weighted avg       0.90      0.95      0.92      1022\n",
      "\n"
     ]
    },
    {
     "name": "stderr",
     "output_type": "stream",
     "text": [
      "/Users/jeremyschwartzbord/opt/anaconda3/lib/python3.9/site-packages/sklearn/metrics/_classification.py:1318: UndefinedMetricWarning: Precision and F-score are ill-defined and being set to 0.0 in labels with no predicted samples. Use `zero_division` parameter to control this behavior.\n",
      "  _warn_prf(average, modifier, msg_start, len(result))\n",
      "/Users/jeremyschwartzbord/opt/anaconda3/lib/python3.9/site-packages/sklearn/metrics/_classification.py:1318: UndefinedMetricWarning: Precision and F-score are ill-defined and being set to 0.0 in labels with no predicted samples. Use `zero_division` parameter to control this behavior.\n",
      "  _warn_prf(average, modifier, msg_start, len(result))\n",
      "/Users/jeremyschwartzbord/opt/anaconda3/lib/python3.9/site-packages/sklearn/metrics/_classification.py:1318: UndefinedMetricWarning: Precision and F-score are ill-defined and being set to 0.0 in labels with no predicted samples. Use `zero_division` parameter to control this behavior.\n",
      "  _warn_prf(average, modifier, msg_start, len(result))\n"
     ]
    }
   ],
   "source": [
    "#model based on complete data set, all columns\n",
    "Model_builder(df_1)"
   ]
  },
  {
   "cell_type": "code",
   "execution_count": 859,
   "id": "83426540",
   "metadata": {},
   "outputs": [
    {
     "name": "stdout",
     "output_type": "stream",
     "text": [
      "         y_pred_0 y_pred_1\n",
      "y_test_0       37       14\n",
      "y_test_1        9       40\n",
      "The classification report for the logistic regression model is:\n",
      "\n",
      "               precision    recall  f1-score   support\n",
      "\n",
      "           0       0.80      0.73      0.76        51\n",
      "           1       0.74      0.82      0.78        49\n",
      "\n",
      "    accuracy                           0.77       100\n",
      "   macro avg       0.77      0.77      0.77       100\n",
      "weighted avg       0.77      0.77      0.77       100\n",
      "\n",
      "The classification report for the Decision Tree Model is:\n",
      "\n",
      "               precision    recall  f1-score   support\n",
      "\n",
      "           0       0.70      0.69      0.69        51\n",
      "           1       0.68      0.69      0.69        49\n",
      "\n",
      "    accuracy                           0.69       100\n",
      "   macro avg       0.69      0.69      0.69       100\n",
      "weighted avg       0.69      0.69      0.69       100\n",
      "\n",
      "The classification report for the Random Forest Model is:\n",
      "\n",
      "               precision    recall  f1-score   support\n",
      "\n",
      "           0       0.77      0.73      0.75        51\n",
      "           1       0.73      0.78      0.75        49\n",
      "\n",
      "    accuracy                           0.75       100\n",
      "   macro avg       0.75      0.75      0.75       100\n",
      "weighted avg       0.75      0.75      0.75       100\n",
      "\n",
      "The classification report for the MLP model is:\n",
      "\n",
      "               precision    recall  f1-score   support\n",
      "\n",
      "           0       0.75      0.71      0.73        51\n",
      "           1       0.71      0.76      0.73        49\n",
      "\n",
      "    accuracy                           0.73       100\n",
      "   macro avg       0.73      0.73      0.73       100\n",
      "weighted avg       0.73      0.73      0.73       100\n",
      "\n"
     ]
    }
   ],
   "source": [
    "#model based on undersampling of no-stroke patients, all columns\n",
    "Model_builder(df_sample1)"
   ]
  },
  {
   "cell_type": "code",
   "execution_count": 860,
   "id": "6acbe317",
   "metadata": {},
   "outputs": [
    {
     "name": "stdout",
     "output_type": "stream",
     "text": [
      "         y_pred_0 y_pred_1\n",
      "y_test_0       39       12\n",
      "y_test_1       12       37\n",
      "The classification report for the logistic regression model is:\n",
      "\n",
      "               precision    recall  f1-score   support\n",
      "\n",
      "           0       0.76      0.76      0.76        51\n",
      "           1       0.76      0.76      0.76        49\n",
      "\n",
      "    accuracy                           0.76       100\n",
      "   macro avg       0.76      0.76      0.76       100\n",
      "weighted avg       0.76      0.76      0.76       100\n",
      "\n",
      "The classification report for the Decision Tree Model is:\n",
      "\n",
      "               precision    recall  f1-score   support\n",
      "\n",
      "           0       0.72      0.71      0.71        51\n",
      "           1       0.70      0.71      0.71        49\n",
      "\n",
      "    accuracy                           0.71       100\n",
      "   macro avg       0.71      0.71      0.71       100\n",
      "weighted avg       0.71      0.71      0.71       100\n",
      "\n",
      "The classification report for the Random Forest Model is:\n",
      "\n",
      "               precision    recall  f1-score   support\n",
      "\n",
      "           0       0.77      0.80      0.79        51\n",
      "           1       0.79      0.76      0.77        49\n",
      "\n",
      "    accuracy                           0.78       100\n",
      "   macro avg       0.78      0.78      0.78       100\n",
      "weighted avg       0.78      0.78      0.78       100\n",
      "\n",
      "The classification report for the MLP model is:\n",
      "\n",
      "               precision    recall  f1-score   support\n",
      "\n",
      "           0       0.76      0.76      0.76        51\n",
      "           1       0.76      0.76      0.76        49\n",
      "\n",
      "    accuracy                           0.76       100\n",
      "   macro avg       0.76      0.76      0.76       100\n",
      "weighted avg       0.76      0.76      0.76       100\n",
      "\n"
     ]
    }
   ],
   "source": [
    "#model based on undersampling of no-stroke patients\n",
    "#ever_married, worktype dropped\n",
    "\n",
    "Model_builder(df_2)"
   ]
  },
  {
   "cell_type": "code",
   "execution_count": 861,
   "id": "97e47714",
   "metadata": {},
   "outputs": [
    {
     "name": "stdout",
     "output_type": "stream",
     "text": [
      "         y_pred_0 y_pred_1\n",
      "y_test_0       37       14\n",
      "y_test_1       11       38\n",
      "The classification report for the logistic regression model is:\n",
      "\n",
      "               precision    recall  f1-score   support\n",
      "\n",
      "           0       0.77      0.73      0.75        51\n",
      "           1       0.73      0.78      0.75        49\n",
      "\n",
      "    accuracy                           0.75       100\n",
      "   macro avg       0.75      0.75      0.75       100\n",
      "weighted avg       0.75      0.75      0.75       100\n",
      "\n",
      "The classification report for the Decision Tree Model is:\n",
      "\n",
      "               precision    recall  f1-score   support\n",
      "\n",
      "           0       0.68      0.78      0.73        51\n",
      "           1       0.73      0.61      0.67        49\n",
      "\n",
      "    accuracy                           0.70       100\n",
      "   macro avg       0.70      0.70      0.70       100\n",
      "weighted avg       0.70      0.70      0.70       100\n",
      "\n",
      "The classification report for the Random Forest Model is:\n",
      "\n",
      "               precision    recall  f1-score   support\n",
      "\n",
      "           0       0.78      0.76      0.77        51\n",
      "           1       0.76      0.78      0.77        49\n",
      "\n",
      "    accuracy                           0.77       100\n",
      "   macro avg       0.77      0.77      0.77       100\n",
      "weighted avg       0.77      0.77      0.77       100\n",
      "\n",
      "The classification report for the MLP model is:\n",
      "\n",
      "               precision    recall  f1-score   support\n",
      "\n",
      "           0       0.82      0.71      0.76        51\n",
      "           1       0.73      0.84      0.78        49\n",
      "\n",
      "    accuracy                           0.77       100\n",
      "   macro avg       0.78      0.77      0.77       100\n",
      "weighted avg       0.78      0.77      0.77       100\n",
      "\n"
     ]
    }
   ],
   "source": [
    "#model based on undersampling of no-stroke patients\n",
    "#smoking, worktype dropped\n",
    "Model_builder(df_3)"
   ]
  },
  {
   "cell_type": "code",
   "execution_count": 862,
   "id": "c1b7d2c6",
   "metadata": {},
   "outputs": [
    {
     "name": "stdout",
     "output_type": "stream",
     "text": [
      "         y_pred_0 y_pred_1\n",
      "y_test_0       38       13\n",
      "y_test_1       11       38\n",
      "The classification report for the logistic regression model is:\n",
      "\n",
      "               precision    recall  f1-score   support\n",
      "\n",
      "           0       0.78      0.75      0.76        51\n",
      "           1       0.75      0.78      0.76        49\n",
      "\n",
      "    accuracy                           0.76       100\n",
      "   macro avg       0.76      0.76      0.76       100\n",
      "weighted avg       0.76      0.76      0.76       100\n",
      "\n",
      "The classification report for the Decision Tree Model is:\n",
      "\n",
      "               precision    recall  f1-score   support\n",
      "\n",
      "           0       0.69      0.67      0.68        51\n",
      "           1       0.67      0.69      0.68        49\n",
      "\n",
      "    accuracy                           0.68       100\n",
      "   macro avg       0.68      0.68      0.68       100\n",
      "weighted avg       0.68      0.68      0.68       100\n",
      "\n",
      "The classification report for the Random Forest Model is:\n",
      "\n",
      "               precision    recall  f1-score   support\n",
      "\n",
      "           0       0.73      0.73      0.73        51\n",
      "           1       0.71      0.71      0.71        49\n",
      "\n",
      "    accuracy                           0.72       100\n",
      "   macro avg       0.72      0.72      0.72       100\n",
      "weighted avg       0.72      0.72      0.72       100\n",
      "\n",
      "The classification report for the MLP model is:\n",
      "\n",
      "               precision    recall  f1-score   support\n",
      "\n",
      "           0       0.77      0.67      0.72        51\n",
      "           1       0.70      0.80      0.74        49\n",
      "\n",
      "    accuracy                           0.73       100\n",
      "   macro avg       0.73      0.73      0.73       100\n",
      "weighted avg       0.74      0.73      0.73       100\n",
      "\n"
     ]
    }
   ],
   "source": [
    "#model based on undersampling of no-stroke patients\n",
    "#smoking, ever_married dropped\n",
    "\n",
    "Model_builder(df_4)"
   ]
  },
  {
   "cell_type": "markdown",
   "id": "bc1c4a0a",
   "metadata": {},
   "source": [
    "When building models, we learned that there was an impact of representativeness of stroke victims on model performance with the test data set. \n",
    "\n",
    "Regression Model\n",
    "With the full data set, model precision was high (>=0.95) for prediction of stroke and no-stroke patients, recall was high for no-stroke patients, but recall was poor (0.02) for stroke victims. When no-stroke patients were undersampled, however, recall for stroke patients improved (0.78), albeit at the expense of recall for no-stroke (0.73) and prevision (0.77 and 0.73 for no-stroke and stroke patients, respectively.) \n",
    "\n",
    "We also tested if variable selection, specifically removal of somewhat correlated variables like marriage, smoking, and work-type, could improve classification accuracy. There was a marginal improvement in recall accuracy by 1% when smoking was including in the model and mariage, worktype were not. This improvement however is marginal. \n",
    "\n",
    "In summary, all four prediction models demonstrated an average F1 accuracy between 0.68 and 0.78; the decision tree model should not be selected because it had lower accuracy than all other model types. The best model performance (0.78) was observed with the random forest when ever_married and work_type were excluded. The most consistent, high performing model was the logistic regression with an accuracy of 0.75 to 0.77. Model performance changed little based on the variable selection group in this analysis, so we cannot reject the null hypothesis concerning variable selection. "
   ]
  },
  {
   "cell_type": "markdown",
   "id": "d6c06e41",
   "metadata": {},
   "source": [
    "In future study, we can test if data augmentation improves our model. For this we could use the SMOTE algorithm as described in https://machinelearningmastery.com/smote-oversampling-for-imbalanced-classification/. This technique has been featured as well other data scientists developing models with this same data set, described on Kaggle.com:\n",
    "https://www.kaggle.com/code/tanmay111999/stroke-prediction-effect-of-data-leakage-smote\n",
    "https://www.kaggle.com/code/siddheshera/stroke-eda-smote-9-models-90-accuracy\n",
    "\n",
    "We could also further tune the neural network models, optimize the random forest model, and do additional variable selection with the logistic regression. "
   ]
  },
  {
   "cell_type": "code",
   "execution_count": null,
   "id": "c75ff1ab",
   "metadata": {},
   "outputs": [],
   "source": []
  }
 ],
 "metadata": {
  "kernelspec": {
   "display_name": "Python 3 (ipykernel)",
   "language": "python",
   "name": "python3"
  },
  "language_info": {
   "codemirror_mode": {
    "name": "ipython",
    "version": 3
   },
   "file_extension": ".py",
   "mimetype": "text/x-python",
   "name": "python",
   "nbconvert_exporter": "python",
   "pygments_lexer": "ipython3",
   "version": "3.9.12"
  }
 },
 "nbformat": 4,
 "nbformat_minor": 5
}
